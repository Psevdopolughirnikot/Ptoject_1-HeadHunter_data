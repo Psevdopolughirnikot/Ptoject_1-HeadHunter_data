{
  "cells": [
    {
      "cell_type": "markdown",
      "metadata": {
        "id": "view-in-github",
        "colab_type": "text"
      },
      "source": [
        "<a href=\"https://colab.research.google.com/github/Psevdopolughirnikot/Ptoject_1-HeadHunter_data/blob/main/Project_1_HeadHunter_base.ipynb\" target=\"_parent\"><img src=\"https://colab.research.google.com/assets/colab-badge.svg\" alt=\"Open In Colab\"/></a>"
      ]
    },
    {
      "cell_type": "markdown",
      "id": "42289889-bd57-434e-9637-d3e354756316",
      "metadata": {
        "id": "42289889-bd57-434e-9637-d3e354756316"
      },
      "source": [
        "<center> <img src = https://raw.githubusercontent.com/AndreyRysistov/DatasetsForPandas/main/hh%20label.jpg alt=\"drawing\" style=\"width:400px;\">"
      ]
    },
    {
      "cell_type": "markdown",
      "id": "829cb75b-f14e-4ba8-9195-7ba929a7d656",
      "metadata": {
        "tags": [],
        "id": "829cb75b-f14e-4ba8-9195-7ba929a7d656"
      },
      "source": [
        "# <center> Проект: Анализ резюме из HeadHunter\n",
        "   "
      ]
    },
    {
      "cell_type": "code",
      "source": [
        "#!pip install -U kaleido"
      ],
      "metadata": {
        "id": "pxuRhaOifpBr"
      },
      "id": "pxuRhaOifpBr",
      "execution_count": 74,
      "outputs": []
    },
    {
      "cell_type": "code",
      "execution_count": 75,
      "id": "dccfde33-2452-43fb-a8a5-5c6ebc02a71d",
      "metadata": {
        "id": "dccfde33-2452-43fb-a8a5-5c6ebc02a71d"
      },
      "outputs": [],
      "source": [
        "import pandas as pd\n",
        "import numpy as np\n",
        "import matplotlib.pyplot as plt\n",
        "import seaborn as sns\n",
        "import kaleido\n",
        "import plotly\n",
        "import plotly.express as px\n",
        "import plotly.io as pio"
      ]
    },
    {
      "cell_type": "markdown",
      "id": "0dc6476b-7a00-44f1-ac93-6e3baed33a29",
      "metadata": {
        "id": "0dc6476b-7a00-44f1-ac93-6e3baed33a29"
      },
      "source": [
        "# Исследование структуры данных"
      ]
    },
    {
      "cell_type": "markdown",
      "id": "889782b6-8d1c-410e-8920-e57f27917c64",
      "metadata": {
        "id": "889782b6-8d1c-410e-8920-e57f27917c64"
      },
      "source": [
        "1. Прочитайте данные с помощью библиотеки Pandas. Совет: перед чтением обратите внимание на разделитель внутри файла. "
      ]
    },
    {
      "cell_type": "code",
      "execution_count": 76,
      "id": "bc39e68e-ed02-4ee2-9235-7258a2f867a8",
      "metadata": {
        "colab": {
          "base_uri": "https://localhost:8080/"
        },
        "id": "bc39e68e-ed02-4ee2-9235-7258a2f867a8",
        "outputId": "23f7e5ca-2413-433b-b2ef-db20f2d46ddd"
      },
      "outputs": [
        {
          "output_type": "stream",
          "name": "stdout",
          "text": [
            "Drive already mounted at /content/drive; to attempt to forcibly remount, call drive.mount(\"/content/drive\", force_remount=True).\n"
          ]
        }
      ],
      "source": [
        "from google.colab import drive\n",
        "drive.mount('/content/drive')\n",
        "\n",
        "hh_data_main = pd.read_csv('/content/drive/MyDrive/My projects in SkillFactory/Project_1_HeadHunter_base/dst-3.0_16_1_hh_database.csv', sep=';')\n",
        "hh_data = hh_data_main.copy()"
      ]
    },
    {
      "cell_type": "markdown",
      "id": "b583485d-1f9e-494e-ada4-80ffff7c53d6",
      "metadata": {
        "id": "b583485d-1f9e-494e-ada4-80ffff7c53d6"
      },
      "source": [
        "2. Выведите несколько первых (последних) строк таблицы, чтобы убедиться в том, что ваши данные не повреждены. Ознакомьтесь с признаками и их структурой."
      ]
    },
    {
      "cell_type": "code",
      "execution_count": 77,
      "id": "5408c52c-3407-4a63-b25b-1aafa2322d28",
      "metadata": {
        "colab": {
          "base_uri": "https://localhost:8080/",
          "height": 597
        },
        "id": "5408c52c-3407-4a63-b25b-1aafa2322d28",
        "outputId": "a24877ee-5f4f-45c8-bffa-9d148a74d55e"
      },
      "outputs": [
        {
          "output_type": "display_data",
          "data": {
            "text/plain": [
              "                                   Пол, возраст           ЗП  \\\n",
              "0    Мужчина ,  39 лет , родился 27 ноября 1979   29000 руб.   \n",
              "1     Мужчина ,  60 лет , родился 20 марта 1959   40000 руб.   \n",
              "2  Женщина ,  36 лет , родилась 12 августа 1982   20000 руб.   \n",
              "3      Мужчина ,  38 лет , родился 25 июня 1980  100000 руб.   \n",
              "4     Женщина ,  26 лет , родилась 3 марта 1993  140000 руб.   \n",
              "\n",
              "                           Ищет работу на должность:  \\\n",
              "0                            Системный администратор   \n",
              "1                               Технический писатель   \n",
              "2                                           Оператор   \n",
              "3  Веб-разработчик (HTML / CSS / JS / PHP / базы ...   \n",
              "4                  Региональный менеджер по продажам   \n",
              "\n",
              "                        Город, переезд, командировки  \\\n",
              "0  Советск (Калининградская область) , не готов к...   \n",
              "1  Королев , не готов к переезду , готов к редким...   \n",
              "2  Тверь , не готова к переезду , не готова к ком...   \n",
              "3  Саратов , не готов к переезду , готов к редким...   \n",
              "4  Москва , не готова к переезду , готова к коман...   \n",
              "\n",
              "                                           Занятость  \\\n",
              "0  частичная занятость, проектная работа, полная ...   \n",
              "1  частичная занятость, проектная работа, полная ...   \n",
              "2                                   полная занятость   \n",
              "3  частичная занятость, проектная работа, полная ...   \n",
              "4                                   полная занятость   \n",
              "\n",
              "                                              График  \\\n",
              "0  гибкий график, полный день, сменный график, ва...   \n",
              "1  гибкий график, полный день, сменный график, уд...   \n",
              "2                                        полный день   \n",
              "3                    гибкий график, удаленная работа   \n",
              "4                                        полный день   \n",
              "\n",
              "                                         Опыт работы  \\\n",
              "0  Опыт работы 16 лет 10 месяцев  Август 2010 — п...   \n",
              "1  Опыт работы 19 лет 5 месяцев  Январь 2000 — по...   \n",
              "2  Опыт работы 10 лет 3 месяца  Октябрь 2004 — Де...   \n",
              "3  Опыт работы 18 лет 9 месяцев  Август 2017 — Ап...   \n",
              "4  Опыт работы 5 лет 7 месяцев  Региональный мене...   \n",
              "\n",
              "  Последнее/нынешнее место работы  \\\n",
              "0         МАОУ \"СОШ № 1 г.Немана\"   \n",
              "1    Временный трудовой коллектив   \n",
              "2                    ПАО Сбербанк   \n",
              "3                        OpenSoft   \n",
              "4                        Мармелад   \n",
              "\n",
              "                       Последняя/нынешняя должность  \\\n",
              "0                           Системный администратор   \n",
              "1  Менеджер проекта, Аналитик, Технический писатель   \n",
              "2                               Кассир-операционист   \n",
              "3                               Инженер-программист   \n",
              "4                              Менеджер по продажам   \n",
              "\n",
              "                                   Образование и ВУЗ Обновление резюме  \\\n",
              "0  Неоконченное высшее образование 2000  Балтийск...  16.04.2019 15:59   \n",
              "1  Высшее образование 1981  Военно-космическая ак...  12.04.2019 08:42   \n",
              "2  Среднее специальное образование 2002 Профессио...  16.04.2019 08:35   \n",
              "3  Высшее образование 2002  Саратовский государст...  08.04.2019 14:23   \n",
              "4  Высшее образование 2015 Кгу Психологии и педаг...  22.04.2019 10:32   \n",
              "\n",
              "                             Авто  \n",
              "0  Имеется собственный автомобиль  \n",
              "1                      Не указано  \n",
              "2                      Не указано  \n",
              "3                      Не указано  \n",
              "4                      Не указано  "
            ],
            "text/html": [
              "\n",
              "  <div id=\"df-37784d3f-96c6-4771-8ff4-daf5bb2102d8\">\n",
              "    <div class=\"colab-df-container\">\n",
              "      <div>\n",
              "<style scoped>\n",
              "    .dataframe tbody tr th:only-of-type {\n",
              "        vertical-align: middle;\n",
              "    }\n",
              "\n",
              "    .dataframe tbody tr th {\n",
              "        vertical-align: top;\n",
              "    }\n",
              "\n",
              "    .dataframe thead th {\n",
              "        text-align: right;\n",
              "    }\n",
              "</style>\n",
              "<table border=\"1\" class=\"dataframe\">\n",
              "  <thead>\n",
              "    <tr style=\"text-align: right;\">\n",
              "      <th></th>\n",
              "      <th>Пол, возраст</th>\n",
              "      <th>ЗП</th>\n",
              "      <th>Ищет работу на должность:</th>\n",
              "      <th>Город, переезд, командировки</th>\n",
              "      <th>Занятость</th>\n",
              "      <th>График</th>\n",
              "      <th>Опыт работы</th>\n",
              "      <th>Последнее/нынешнее место работы</th>\n",
              "      <th>Последняя/нынешняя должность</th>\n",
              "      <th>Образование и ВУЗ</th>\n",
              "      <th>Обновление резюме</th>\n",
              "      <th>Авто</th>\n",
              "    </tr>\n",
              "  </thead>\n",
              "  <tbody>\n",
              "    <tr>\n",
              "      <th>0</th>\n",
              "      <td>Мужчина ,  39 лет , родился 27 ноября 1979</td>\n",
              "      <td>29000 руб.</td>\n",
              "      <td>Системный администратор</td>\n",
              "      <td>Советск (Калининградская область) , не готов к...</td>\n",
              "      <td>частичная занятость, проектная работа, полная ...</td>\n",
              "      <td>гибкий график, полный день, сменный график, ва...</td>\n",
              "      <td>Опыт работы 16 лет 10 месяцев  Август 2010 — п...</td>\n",
              "      <td>МАОУ \"СОШ № 1 г.Немана\"</td>\n",
              "      <td>Системный администратор</td>\n",
              "      <td>Неоконченное высшее образование 2000  Балтийск...</td>\n",
              "      <td>16.04.2019 15:59</td>\n",
              "      <td>Имеется собственный автомобиль</td>\n",
              "    </tr>\n",
              "    <tr>\n",
              "      <th>1</th>\n",
              "      <td>Мужчина ,  60 лет , родился 20 марта 1959</td>\n",
              "      <td>40000 руб.</td>\n",
              "      <td>Технический писатель</td>\n",
              "      <td>Королев , не готов к переезду , готов к редким...</td>\n",
              "      <td>частичная занятость, проектная работа, полная ...</td>\n",
              "      <td>гибкий график, полный день, сменный график, уд...</td>\n",
              "      <td>Опыт работы 19 лет 5 месяцев  Январь 2000 — по...</td>\n",
              "      <td>Временный трудовой коллектив</td>\n",
              "      <td>Менеджер проекта, Аналитик, Технический писатель</td>\n",
              "      <td>Высшее образование 1981  Военно-космическая ак...</td>\n",
              "      <td>12.04.2019 08:42</td>\n",
              "      <td>Не указано</td>\n",
              "    </tr>\n",
              "    <tr>\n",
              "      <th>2</th>\n",
              "      <td>Женщина ,  36 лет , родилась 12 августа 1982</td>\n",
              "      <td>20000 руб.</td>\n",
              "      <td>Оператор</td>\n",
              "      <td>Тверь , не готова к переезду , не готова к ком...</td>\n",
              "      <td>полная занятость</td>\n",
              "      <td>полный день</td>\n",
              "      <td>Опыт работы 10 лет 3 месяца  Октябрь 2004 — Де...</td>\n",
              "      <td>ПАО Сбербанк</td>\n",
              "      <td>Кассир-операционист</td>\n",
              "      <td>Среднее специальное образование 2002 Профессио...</td>\n",
              "      <td>16.04.2019 08:35</td>\n",
              "      <td>Не указано</td>\n",
              "    </tr>\n",
              "    <tr>\n",
              "      <th>3</th>\n",
              "      <td>Мужчина ,  38 лет , родился 25 июня 1980</td>\n",
              "      <td>100000 руб.</td>\n",
              "      <td>Веб-разработчик (HTML / CSS / JS / PHP / базы ...</td>\n",
              "      <td>Саратов , не готов к переезду , готов к редким...</td>\n",
              "      <td>частичная занятость, проектная работа, полная ...</td>\n",
              "      <td>гибкий график, удаленная работа</td>\n",
              "      <td>Опыт работы 18 лет 9 месяцев  Август 2017 — Ап...</td>\n",
              "      <td>OpenSoft</td>\n",
              "      <td>Инженер-программист</td>\n",
              "      <td>Высшее образование 2002  Саратовский государст...</td>\n",
              "      <td>08.04.2019 14:23</td>\n",
              "      <td>Не указано</td>\n",
              "    </tr>\n",
              "    <tr>\n",
              "      <th>4</th>\n",
              "      <td>Женщина ,  26 лет , родилась 3 марта 1993</td>\n",
              "      <td>140000 руб.</td>\n",
              "      <td>Региональный менеджер по продажам</td>\n",
              "      <td>Москва , не готова к переезду , готова к коман...</td>\n",
              "      <td>полная занятость</td>\n",
              "      <td>полный день</td>\n",
              "      <td>Опыт работы 5 лет 7 месяцев  Региональный мене...</td>\n",
              "      <td>Мармелад</td>\n",
              "      <td>Менеджер по продажам</td>\n",
              "      <td>Высшее образование 2015 Кгу Психологии и педаг...</td>\n",
              "      <td>22.04.2019 10:32</td>\n",
              "      <td>Не указано</td>\n",
              "    </tr>\n",
              "  </tbody>\n",
              "</table>\n",
              "</div>\n",
              "      <button class=\"colab-df-convert\" onclick=\"convertToInteractive('df-37784d3f-96c6-4771-8ff4-daf5bb2102d8')\"\n",
              "              title=\"Convert this dataframe to an interactive table.\"\n",
              "              style=\"display:none;\">\n",
              "        \n",
              "  <svg xmlns=\"http://www.w3.org/2000/svg\" height=\"24px\"viewBox=\"0 0 24 24\"\n",
              "       width=\"24px\">\n",
              "    <path d=\"M0 0h24v24H0V0z\" fill=\"none\"/>\n",
              "    <path d=\"M18.56 5.44l.94 2.06.94-2.06 2.06-.94-2.06-.94-.94-2.06-.94 2.06-2.06.94zm-11 1L8.5 8.5l.94-2.06 2.06-.94-2.06-.94L8.5 2.5l-.94 2.06-2.06.94zm10 10l.94 2.06.94-2.06 2.06-.94-2.06-.94-.94-2.06-.94 2.06-2.06.94z\"/><path d=\"M17.41 7.96l-1.37-1.37c-.4-.4-.92-.59-1.43-.59-.52 0-1.04.2-1.43.59L10.3 9.45l-7.72 7.72c-.78.78-.78 2.05 0 2.83L4 21.41c.39.39.9.59 1.41.59.51 0 1.02-.2 1.41-.59l7.78-7.78 2.81-2.81c.8-.78.8-2.07 0-2.86zM5.41 20L4 18.59l7.72-7.72 1.47 1.35L5.41 20z\"/>\n",
              "  </svg>\n",
              "      </button>\n",
              "      \n",
              "  <style>\n",
              "    .colab-df-container {\n",
              "      display:flex;\n",
              "      flex-wrap:wrap;\n",
              "      gap: 12px;\n",
              "    }\n",
              "\n",
              "    .colab-df-convert {\n",
              "      background-color: #E8F0FE;\n",
              "      border: none;\n",
              "      border-radius: 50%;\n",
              "      cursor: pointer;\n",
              "      display: none;\n",
              "      fill: #1967D2;\n",
              "      height: 32px;\n",
              "      padding: 0 0 0 0;\n",
              "      width: 32px;\n",
              "    }\n",
              "\n",
              "    .colab-df-convert:hover {\n",
              "      background-color: #E2EBFA;\n",
              "      box-shadow: 0px 1px 2px rgba(60, 64, 67, 0.3), 0px 1px 3px 1px rgba(60, 64, 67, 0.15);\n",
              "      fill: #174EA6;\n",
              "    }\n",
              "\n",
              "    [theme=dark] .colab-df-convert {\n",
              "      background-color: #3B4455;\n",
              "      fill: #D2E3FC;\n",
              "    }\n",
              "\n",
              "    [theme=dark] .colab-df-convert:hover {\n",
              "      background-color: #434B5C;\n",
              "      box-shadow: 0px 1px 3px 1px rgba(0, 0, 0, 0.15);\n",
              "      filter: drop-shadow(0px 1px 2px rgba(0, 0, 0, 0.3));\n",
              "      fill: #FFFFFF;\n",
              "    }\n",
              "  </style>\n",
              "\n",
              "      <script>\n",
              "        const buttonEl =\n",
              "          document.querySelector('#df-37784d3f-96c6-4771-8ff4-daf5bb2102d8 button.colab-df-convert');\n",
              "        buttonEl.style.display =\n",
              "          google.colab.kernel.accessAllowed ? 'block' : 'none';\n",
              "\n",
              "        async function convertToInteractive(key) {\n",
              "          const element = document.querySelector('#df-37784d3f-96c6-4771-8ff4-daf5bb2102d8');\n",
              "          const dataTable =\n",
              "            await google.colab.kernel.invokeFunction('convertToInteractive',\n",
              "                                                     [key], {});\n",
              "          if (!dataTable) return;\n",
              "\n",
              "          const docLinkHtml = 'Like what you see? Visit the ' +\n",
              "            '<a target=\"_blank\" href=https://colab.research.google.com/notebooks/data_table.ipynb>data table notebook</a>'\n",
              "            + ' to learn more about interactive tables.';\n",
              "          element.innerHTML = '';\n",
              "          dataTable['output_type'] = 'display_data';\n",
              "          await google.colab.output.renderOutput(dataTable, element);\n",
              "          const docLink = document.createElement('div');\n",
              "          docLink.innerHTML = docLinkHtml;\n",
              "          element.appendChild(docLink);\n",
              "        }\n",
              "      </script>\n",
              "    </div>\n",
              "  </div>\n",
              "  "
            ]
          },
          "metadata": {}
        }
      ],
      "source": [
        "display(hh_data.head(5))"
      ]
    },
    {
      "cell_type": "markdown",
      "id": "a2bfff1f-c975-4bf6-84be-2185d79dcb76",
      "metadata": {
        "id": "a2bfff1f-c975-4bf6-84be-2185d79dcb76"
      },
      "source": [
        "3. Выведите основную информацию о числе непустых значений в столбцах и их типах в таблице."
      ]
    },
    {
      "cell_type": "markdown",
      "id": "41bb59f3-53cc-4a67-a5bc-bedf573955e4",
      "metadata": {
        "id": "41bb59f3-53cc-4a67-a5bc-bedf573955e4"
      },
      "source": [
        "4. Обратите внимание на информацию о числе непустых значений."
      ]
    },
    {
      "cell_type": "code",
      "execution_count": 78,
      "id": "d286cf4c-707b-4cd2-9190-7ab3587d04a1",
      "metadata": {
        "colab": {
          "base_uri": "https://localhost:8080/",
          "height": 382
        },
        "id": "d286cf4c-707b-4cd2-9190-7ab3587d04a1",
        "outputId": "6229ff08-b07f-45df-e06b-9ace6ddf7180"
      },
      "outputs": [
        {
          "output_type": "stream",
          "name": "stdout",
          "text": [
            "<class 'pandas.core.frame.DataFrame'>\n",
            "RangeIndex: 44744 entries, 0 to 44743\n",
            "Data columns (total 12 columns):\n",
            " #   Column                           Non-Null Count  Dtype \n",
            "---  ------                           --------------  ----- \n",
            " 0   Пол, возраст                     44744 non-null  object\n",
            " 1   ЗП                               44744 non-null  object\n",
            " 2   Ищет работу на должность:        44744 non-null  object\n",
            " 3   Город, переезд, командировки     44744 non-null  object\n",
            " 4   Занятость                        44744 non-null  object\n",
            " 5   График                           44744 non-null  object\n",
            " 6   Опыт работы                      44576 non-null  object\n",
            " 7   Последнее/нынешнее место работы  44743 non-null  object\n",
            " 8   Последняя/нынешняя должность     44742 non-null  object\n",
            " 9   Образование и ВУЗ                44744 non-null  object\n",
            " 10  Обновление резюме                44744 non-null  object\n",
            " 11  Авто                             44744 non-null  object\n",
            "dtypes: object(12)\n",
            "memory usage: 4.1+ MB\n"
          ]
        },
        {
          "output_type": "display_data",
          "data": {
            "text/plain": [
              "None"
            ]
          },
          "metadata": {}
        }
      ],
      "source": [
        "display(hh_data.info())"
      ]
    },
    {
      "cell_type": "markdown",
      "id": "9a8a2181-6914-448b-85f1-38f5f18b8a93",
      "metadata": {
        "id": "9a8a2181-6914-448b-85f1-38f5f18b8a93"
      },
      "source": [
        "5. Выведите основную статистическую информацию о столбцах.\n"
      ]
    },
    {
      "cell_type": "code",
      "execution_count": 79,
      "id": "be4e9bd3-a4db-4a20-82fb-6b02fc2957e0",
      "metadata": {
        "colab": {
          "base_uri": "https://localhost:8080/",
          "height": 305
        },
        "id": "be4e9bd3-a4db-4a20-82fb-6b02fc2957e0",
        "outputId": "0eb5142d-3c91-49a6-906d-f2ddcc841f6d"
      },
      "outputs": [
        {
          "output_type": "display_data",
          "data": {
            "text/plain": [
              "                                         Пол, возраст          ЗП  \\\n",
              "count                                           44744       44744   \n",
              "unique                                          16003         690   \n",
              "top     Мужчина ,  32 года , родился 17 сентября 1986  50000 руб.   \n",
              "freq                                               18        4064   \n",
              "\n",
              "       Ищет работу на должность:  \\\n",
              "count                      44744   \n",
              "unique                     14929   \n",
              "top      Системный администратор   \n",
              "freq                        3099   \n",
              "\n",
              "                             Город, переезд, командировки         Занятость  \\\n",
              "count                                               44744             44744   \n",
              "unique                                              10063                38   \n",
              "top     Москва , не готов к переезду , не готов к кома...  полная занятость   \n",
              "freq                                                 1261             30026   \n",
              "\n",
              "             График                                        Опыт работы  \\\n",
              "count         44744                                              44576   \n",
              "unique           47                                              44413   \n",
              "top     полный день  Опыт работы 10 лет 8 месяцев  Апрель 2018 — по...   \n",
              "freq          22727                                                  3   \n",
              "\n",
              "                          Последнее/нынешнее место работы  \\\n",
              "count                                               44743   \n",
              "unique                                              30214   \n",
              "top     Индивидуальное предпринимательство / частная п...   \n",
              "freq                                                  935   \n",
              "\n",
              "       Последняя/нынешняя должность  \\\n",
              "count                         44742   \n",
              "unique                        16927   \n",
              "top         Системный администратор   \n",
              "freq                           2062   \n",
              "\n",
              "                                        Образование и ВУЗ Обновление резюме  \\\n",
              "count                                               44744             44744   \n",
              "unique                                              40148             18838   \n",
              "top     Высшее образование 1987 Военный инженерный Кра...  07.05.2019 09:50   \n",
              "freq                                                    4                25   \n",
              "\n",
              "              Авто  \n",
              "count        44744  \n",
              "unique           2  \n",
              "top     Не указано  \n",
              "freq         32268  "
            ],
            "text/html": [
              "\n",
              "  <div id=\"df-d1cbf17c-51bb-4f41-9810-70141377f298\">\n",
              "    <div class=\"colab-df-container\">\n",
              "      <div>\n",
              "<style scoped>\n",
              "    .dataframe tbody tr th:only-of-type {\n",
              "        vertical-align: middle;\n",
              "    }\n",
              "\n",
              "    .dataframe tbody tr th {\n",
              "        vertical-align: top;\n",
              "    }\n",
              "\n",
              "    .dataframe thead th {\n",
              "        text-align: right;\n",
              "    }\n",
              "</style>\n",
              "<table border=\"1\" class=\"dataframe\">\n",
              "  <thead>\n",
              "    <tr style=\"text-align: right;\">\n",
              "      <th></th>\n",
              "      <th>Пол, возраст</th>\n",
              "      <th>ЗП</th>\n",
              "      <th>Ищет работу на должность:</th>\n",
              "      <th>Город, переезд, командировки</th>\n",
              "      <th>Занятость</th>\n",
              "      <th>График</th>\n",
              "      <th>Опыт работы</th>\n",
              "      <th>Последнее/нынешнее место работы</th>\n",
              "      <th>Последняя/нынешняя должность</th>\n",
              "      <th>Образование и ВУЗ</th>\n",
              "      <th>Обновление резюме</th>\n",
              "      <th>Авто</th>\n",
              "    </tr>\n",
              "  </thead>\n",
              "  <tbody>\n",
              "    <tr>\n",
              "      <th>count</th>\n",
              "      <td>44744</td>\n",
              "      <td>44744</td>\n",
              "      <td>44744</td>\n",
              "      <td>44744</td>\n",
              "      <td>44744</td>\n",
              "      <td>44744</td>\n",
              "      <td>44576</td>\n",
              "      <td>44743</td>\n",
              "      <td>44742</td>\n",
              "      <td>44744</td>\n",
              "      <td>44744</td>\n",
              "      <td>44744</td>\n",
              "    </tr>\n",
              "    <tr>\n",
              "      <th>unique</th>\n",
              "      <td>16003</td>\n",
              "      <td>690</td>\n",
              "      <td>14929</td>\n",
              "      <td>10063</td>\n",
              "      <td>38</td>\n",
              "      <td>47</td>\n",
              "      <td>44413</td>\n",
              "      <td>30214</td>\n",
              "      <td>16927</td>\n",
              "      <td>40148</td>\n",
              "      <td>18838</td>\n",
              "      <td>2</td>\n",
              "    </tr>\n",
              "    <tr>\n",
              "      <th>top</th>\n",
              "      <td>Мужчина ,  32 года , родился 17 сентября 1986</td>\n",
              "      <td>50000 руб.</td>\n",
              "      <td>Системный администратор</td>\n",
              "      <td>Москва , не готов к переезду , не готов к кома...</td>\n",
              "      <td>полная занятость</td>\n",
              "      <td>полный день</td>\n",
              "      <td>Опыт работы 10 лет 8 месяцев  Апрель 2018 — по...</td>\n",
              "      <td>Индивидуальное предпринимательство / частная п...</td>\n",
              "      <td>Системный администратор</td>\n",
              "      <td>Высшее образование 1987 Военный инженерный Кра...</td>\n",
              "      <td>07.05.2019 09:50</td>\n",
              "      <td>Не указано</td>\n",
              "    </tr>\n",
              "    <tr>\n",
              "      <th>freq</th>\n",
              "      <td>18</td>\n",
              "      <td>4064</td>\n",
              "      <td>3099</td>\n",
              "      <td>1261</td>\n",
              "      <td>30026</td>\n",
              "      <td>22727</td>\n",
              "      <td>3</td>\n",
              "      <td>935</td>\n",
              "      <td>2062</td>\n",
              "      <td>4</td>\n",
              "      <td>25</td>\n",
              "      <td>32268</td>\n",
              "    </tr>\n",
              "  </tbody>\n",
              "</table>\n",
              "</div>\n",
              "      <button class=\"colab-df-convert\" onclick=\"convertToInteractive('df-d1cbf17c-51bb-4f41-9810-70141377f298')\"\n",
              "              title=\"Convert this dataframe to an interactive table.\"\n",
              "              style=\"display:none;\">\n",
              "        \n",
              "  <svg xmlns=\"http://www.w3.org/2000/svg\" height=\"24px\"viewBox=\"0 0 24 24\"\n",
              "       width=\"24px\">\n",
              "    <path d=\"M0 0h24v24H0V0z\" fill=\"none\"/>\n",
              "    <path d=\"M18.56 5.44l.94 2.06.94-2.06 2.06-.94-2.06-.94-.94-2.06-.94 2.06-2.06.94zm-11 1L8.5 8.5l.94-2.06 2.06-.94-2.06-.94L8.5 2.5l-.94 2.06-2.06.94zm10 10l.94 2.06.94-2.06 2.06-.94-2.06-.94-.94-2.06-.94 2.06-2.06.94z\"/><path d=\"M17.41 7.96l-1.37-1.37c-.4-.4-.92-.59-1.43-.59-.52 0-1.04.2-1.43.59L10.3 9.45l-7.72 7.72c-.78.78-.78 2.05 0 2.83L4 21.41c.39.39.9.59 1.41.59.51 0 1.02-.2 1.41-.59l7.78-7.78 2.81-2.81c.8-.78.8-2.07 0-2.86zM5.41 20L4 18.59l7.72-7.72 1.47 1.35L5.41 20z\"/>\n",
              "  </svg>\n",
              "      </button>\n",
              "      \n",
              "  <style>\n",
              "    .colab-df-container {\n",
              "      display:flex;\n",
              "      flex-wrap:wrap;\n",
              "      gap: 12px;\n",
              "    }\n",
              "\n",
              "    .colab-df-convert {\n",
              "      background-color: #E8F0FE;\n",
              "      border: none;\n",
              "      border-radius: 50%;\n",
              "      cursor: pointer;\n",
              "      display: none;\n",
              "      fill: #1967D2;\n",
              "      height: 32px;\n",
              "      padding: 0 0 0 0;\n",
              "      width: 32px;\n",
              "    }\n",
              "\n",
              "    .colab-df-convert:hover {\n",
              "      background-color: #E2EBFA;\n",
              "      box-shadow: 0px 1px 2px rgba(60, 64, 67, 0.3), 0px 1px 3px 1px rgba(60, 64, 67, 0.15);\n",
              "      fill: #174EA6;\n",
              "    }\n",
              "\n",
              "    [theme=dark] .colab-df-convert {\n",
              "      background-color: #3B4455;\n",
              "      fill: #D2E3FC;\n",
              "    }\n",
              "\n",
              "    [theme=dark] .colab-df-convert:hover {\n",
              "      background-color: #434B5C;\n",
              "      box-shadow: 0px 1px 3px 1px rgba(0, 0, 0, 0.15);\n",
              "      filter: drop-shadow(0px 1px 2px rgba(0, 0, 0, 0.3));\n",
              "      fill: #FFFFFF;\n",
              "    }\n",
              "  </style>\n",
              "\n",
              "      <script>\n",
              "        const buttonEl =\n",
              "          document.querySelector('#df-d1cbf17c-51bb-4f41-9810-70141377f298 button.colab-df-convert');\n",
              "        buttonEl.style.display =\n",
              "          google.colab.kernel.accessAllowed ? 'block' : 'none';\n",
              "\n",
              "        async function convertToInteractive(key) {\n",
              "          const element = document.querySelector('#df-d1cbf17c-51bb-4f41-9810-70141377f298');\n",
              "          const dataTable =\n",
              "            await google.colab.kernel.invokeFunction('convertToInteractive',\n",
              "                                                     [key], {});\n",
              "          if (!dataTable) return;\n",
              "\n",
              "          const docLinkHtml = 'Like what you see? Visit the ' +\n",
              "            '<a target=\"_blank\" href=https://colab.research.google.com/notebooks/data_table.ipynb>data table notebook</a>'\n",
              "            + ' to learn more about interactive tables.';\n",
              "          element.innerHTML = '';\n",
              "          dataTable['output_type'] = 'display_data';\n",
              "          await google.colab.output.renderOutput(dataTable, element);\n",
              "          const docLink = document.createElement('div');\n",
              "          docLink.innerHTML = docLinkHtml;\n",
              "          element.appendChild(docLink);\n",
              "        }\n",
              "      </script>\n",
              "    </div>\n",
              "  </div>\n",
              "  "
            ]
          },
          "metadata": {}
        }
      ],
      "source": [
        "display(hh_data.describe())"
      ]
    },
    {
      "cell_type": "markdown",
      "id": "8d62a9f3-f64e-4fe7-bdac-c4dffa16155e",
      "metadata": {
        "id": "8d62a9f3-f64e-4fe7-bdac-c4dffa16155e"
      },
      "source": [
        "# Преобразование данных"
      ]
    },
    {
      "cell_type": "markdown",
      "id": "93053d3d-b284-481a-9cf7-012d7014c0e0",
      "metadata": {
        "id": "93053d3d-b284-481a-9cf7-012d7014c0e0"
      },
      "source": [
        "1. Начнем с простого - с признака **\"Образование и ВУЗ\"**. Его текущий формат это: **<Уровень образования год выпуска ВУЗ специальность...>**. Например:\n",
        "* Высшее образование 2016 Московский авиационный институт (национальный исследовательский университет)...\n",
        "* Неоконченное высшее образование 2000  Балтийская государственная академия рыбопромыслового флота…\n",
        "Нас будет интересовать только уровень образования.\n",
        "\n",
        "Создайте с помощью функции-преобразования новый признак **\"Образование\"**, который должен иметь 4 категории: \"высшее\", \"неоконченное высшее\", \"среднее специальное\" и \"среднее\".\n",
        "\n",
        "Выполните преобразование, ответьте на контрольные вопросы и удалите признак \"Образование и ВУЗ\".\n",
        "\n",
        "Совет: обратите внимание на структуру текста в столбце **\"Образование и ВУЗ\"**. Гарантируется, что текущий уровень образования соискателя всегда находится в первых 2ух слов и начинается с заглавной буквы. Воспользуйтесь этим.\n",
        "\n",
        "*Совет: проверяйте полученные категории, например, с помощью метода unique()*\n"
      ]
    },
    {
      "cell_type": "code",
      "execution_count": 80,
      "id": "3f069da6-fdc9-4ae7-b514-fafe2675efd3",
      "metadata": {
        "id": "3f069da6-fdc9-4ae7-b514-fafe2675efd3"
      },
      "outputs": [],
      "source": [
        "# Преобразовываем признак ['Образование и ВУЗ'] в новый признак ['Образование'] так, чтобы он отражал исключительно уровень образования\n",
        "hh_data['Образование'] = hh_data['Образование и ВУЗ'].apply(lambda x: (' '.join(x.split()[:2])).lower())\n",
        "hh_data['Образование'] = hh_data['Образование'].apply(lambda x: (' '.join(x.split()[:1])) if x == 'высшее образование' or x =='среднее образование' in x else x)\n",
        "\n",
        "# Удаляем обработанный признак \n",
        "drop_col = ['Образование и ВУЗ']\n",
        "hh_data = hh_data.drop(drop_col, axis=1)"
      ]
    },
    {
      "cell_type": "markdown",
      "id": "4266f0b6-1646-492a-88b4-2f6a46502135",
      "metadata": {
        "id": "4266f0b6-1646-492a-88b4-2f6a46502135"
      },
      "source": [
        "2. Теперь нас интересует столбец **\"Пол, возраст\"**. Сейчас он представлен в формате **<Пол , возраст , дата рождения >**. Например:\n",
        "* Мужчина , 39 лет , родился 27 ноября 1979 \n",
        "* Женщина , 21 год , родилась 13 января 2000\n",
        "Как вы понимаете, нам необходимо выделить каждый параметр в отдельный столбец.\n",
        "\n",
        "Создайте два новых признака **\"Пол\"** и **\"Возраст\"**. При этом важно учесть:\n",
        "* Признак пола должен иметь 2 уникальных строковых значения: 'М' - мужчина, 'Ж' - женщина. \n",
        "* Признак возраста должен быть представлен целыми числами.\n",
        "\n",
        "Выполните преобразование, ответьте на контрольные вопросы и удалите признак **\"Пол, возраст\"** из таблицы.\n",
        "\n",
        "*Совет: обратите внимание на структуру текста в столбце, в части на то, как разделены параметры пола, возраста и даты рождения между собой - символом ' , '. \n",
        "Гарантируется, что структура одинакова для всех строк в таблице. Вы можете воспользоваться этим.*\n"
      ]
    },
    {
      "cell_type": "code",
      "execution_count": 81,
      "id": "0c44b350-72eb-4d65-8b54-a1fc449ba9fd",
      "metadata": {
        "id": "0c44b350-72eb-4d65-8b54-a1fc449ba9fd"
      },
      "outputs": [],
      "source": [
        "# Применяя lambda-функцию, создаем новые признаки ['Пол'] и ['Возраст']\n",
        "hh_data['Возраст'] = hh_data['Пол, возраст'].apply(lambda x: int(x.split()[2]))\n",
        "hh_data['Пол'] = hh_data['Пол, возраст'].apply(lambda x: (list(x.split()[0]))[0])\n",
        "\n",
        "# Удаляем обработанный признак\n",
        "drop_col = ['Пол, возраст']\n",
        "hh_data = hh_data.drop(drop_col, axis=1)"
      ]
    },
    {
      "cell_type": "markdown",
      "id": "635c4d5d-f323-4c66-b428-50a088120aa0",
      "metadata": {
        "id": "635c4d5d-f323-4c66-b428-50a088120aa0"
      },
      "source": [
        "3. Следующим этапом преобразуем признак **\"Опыт работы\"**. Его текущий формат - это: **<Опыт работы: n лет m месяцев, периоды работы в различных компаниях…>**. \n",
        "\n",
        "Из столбца нам необходимо выделить общий опыт работы соискателя в месяцах, новый признак назовем \"Опыт работы (месяц)\"\n",
        "\n",
        "Для начала обсудим условия решения задачи:\n",
        "* Во-первых, в данном признаке есть пропуски. Условимся, что если мы встречаем пропуск, оставляем его как есть (функция-преобразование возвращает NaN)\n",
        "* Во-вторых, в данном признаке есть скрытые пропуски. Для некоторых соискателей в столбце стоит значения \"Не указано\". Их тоже обозначим как NaN (функция-преобразование возвращает NaN)\n",
        "* В-третьих, нас не интересует информация, которая описывается после указания опыта работы (периоды работы в различных компаниях)\n",
        "* В-четвертых, у нас есть проблема: опыт работы может быть представлен только в годах или только месяцах. Например, можно встретить следующие варианты:\n",
        "    * Опыт работы 3 года 2 месяца…\n",
        "    * Опыт работы 4 года…\n",
        "    * Опыт работы 11 месяцев…\n",
        "    * Учитывайте эту особенность в вашем коде\n",
        "\n",
        "Учитывайте эту особенность в вашем коде\n",
        "\n",
        "В результате преобразования у вас должен получиться столбец, содержащий информацию о том, сколько месяцев проработал соискатель.\n",
        "Выполните преобразование, ответьте на контрольные вопросы и удалите столбец **\"Опыт работы\"** из таблицы.\n"
      ]
    },
    {
      "cell_type": "code",
      "execution_count": 82,
      "id": "603cdbe4-0ec3-4106-8eaf-c73fcdd29165",
      "metadata": {
        "id": "603cdbe4-0ec3-4106-8eaf-c73fcdd29165"
      },
      "outputs": [],
      "source": [
        "# Создаем функцию, которая определяет опыт работы пользователя в месяцах\n",
        "def get_experience_in_months(arg):\n",
        "    if arg is np.nan or arg == 'Не указано':\n",
        "        return None\n",
        "    year_words=['год', 'года', 'лет']\n",
        "    month_words=['месяц', 'месяца', 'месяцев']\n",
        "    arg_splitted = arg.split(' ')[:7]\n",
        "    years = 0\n",
        "    months = 0\n",
        "    for index, item in enumerate(arg_splitted):\n",
        "        if item in year_words:\n",
        "            years = int(arg_splitted[index-1])\n",
        "        if item in month_words:\n",
        "            months = int(arg_splitted[index-1])\n",
        "    return int(years*12 + months)\n",
        "\n",
        "# Применяем функцию, создаем новый признак и удаляем признак ['Опыт работы']\n",
        "hh_data['Опыт работы (месяц)'] = hh_data['Опыт работы'].apply(get_experience_in_months)\n",
        "drop_col = ['Опыт работы']\n",
        "hh_data = hh_data.drop(drop_col, axis=1)\n"
      ]
    },
    {
      "cell_type": "markdown",
      "id": "f3fdaec9-5fd3-4260-9cf5-1d7406b628a5",
      "metadata": {
        "id": "f3fdaec9-5fd3-4260-9cf5-1d7406b628a5"
      },
      "source": [
        "4. Хорошо идем! Следующий на очереди признак \"Город, переезд, командировки\". Информация в нем представлена в следующем виде: **<Город , (метро) , готовность к переезду (города для переезда) , готовность к командировкам>**. В скобках указаны необязательные параметры строки. Например, можно встретить следующие варианты:\n",
        "\n",
        "* Москва , не готов к переезду , готов к командировкам\n",
        "* Москва , м. Беломорская , не готов к переезду, не готов к командировкам\n",
        "* Воронеж , готов к переезду (Сочи, Москва, Санкт-Петербург) , готов к командировкам\n",
        "\n",
        "Создадим отдельные признаки **\"Город\"**, **\"Готовность к переезду\"**, **\"Готовность к командировкам\"**. При этом важно учесть:\n",
        "\n",
        "* Признак **\"Город\"** должен содержать только 4 категории: \"Москва\", \"Санкт-Петербург\" и \"город-миллионник\" (их список ниже), остальные обозначьте как \"другие\".\n",
        "\n",
        "    Список городов-миллионников:\n",
        "    \n",
        "   <code>million_cities = ['Новосибирск', 'Екатеринбург','Нижний Новгород','Казань', 'Челябинск','Омск', 'Самара', 'Ростов-на-Дону', 'Уфа', 'Красноярск', 'Пермь', 'Воронеж','Волгоград']\n",
        "    </code>\n",
        "    Инфорация о метро, рядом с которым проживает соискатель нас не интересует.\n",
        "* Признак **\"Готовность к переезду\"** должен иметь два возможных варианта: True или False. Обратите внимание, что возможны несколько вариантов описания готовности к переезду в признаке \"Город, переезд, командировки\". Например:\n",
        "    * … , готов к переезду , …\n",
        "    * … , не готова к переезду , …\n",
        "    * … , готова к переезду (Москва, Санкт-Петербург, Ростов-на-Дону)\n",
        "    * … , хочу переехать (США) , …\n",
        "    \n",
        "    Нас интересует только сам факт возможности или желания переезда.\n",
        "* Признак **\"Готовность к командировкам\"** должен иметь два возможных варианта: True или False. Обратите внимание, что возможны несколько вариантов описания готовности к командировкам в признаке \"Город, переезд, командировки\". Например:\n",
        "    * … , готов к командировкам , … \n",
        "    * … , готова к редким командировкам , …\n",
        "    * … , не готов к командировкам , …\n",
        "    \n",
        "    Нас интересует только сам факт готовности к командировке.\n",
        "    \n",
        "    Еще один важный факт: при выгрузки данных у некоторых соискателей \"потерялась\" информация о готовности к командировкам. Давайте по умолчанию будем считать, что такие соискатели не готовы к командировкам.\n",
        "    \n",
        "Выполните преобразования и удалите столбец **\"Город, переезд, командировки\"** из таблицы.\n",
        "\n",
        "*Совет: обратите внимание на то, что структура текста может меняться в зависимости от указания ближайшего метро. Учите это, если будете использовать порядок слов в своей программе.*\n"
      ]
    },
    {
      "cell_type": "code",
      "execution_count": 83,
      "id": "1ea710ec-871b-431e-9462-c7d0fd87011b",
      "metadata": {
        "id": "1ea710ec-871b-431e-9462-c7d0fd87011b"
      },
      "outputs": [],
      "source": [
        "# Создаем функцию, которая классифицирует города по четырем категориям: \"Москва\", \"Санкт-Петербург\", \"город-миллионник\" и \"другие\"\n",
        "def get_cities(arg):\n",
        "  million_cities = ['Новосибирск', 'Екатеринбург','Нижний Новгород','Казань', 'Челябинск','Омск', 'Самара', 'Ростов-на-Дону', 'Уфа', 'Красноярск', 'Пермь', 'Воронеж','Волгоград']\n",
        "  city = (arg.split())[0]\n",
        "  if city == \"Санкт-Петербург\" or city == 'Москва':\n",
        "    return city\n",
        "  if city in million_cities:\n",
        "    return 'город-миллионник'\n",
        "  else:\n",
        "    return 'другие'\n",
        "\n",
        "hh_data['Город'] = hh_data['Город, переезд, командировки'].apply(get_cities)\n",
        "\n",
        "# Создаем функцию, которая определяет готовность пользователя к переездам\n",
        "def get_moving(arg):\n",
        "  arg_splitted = arg.split(' ')\n",
        "\n",
        "  for index, item in enumerate(arg_splitted):\n",
        "    if item == 'переезду' or item == 'переехать':\n",
        "      if arg_splitted[index-3] == 'не' or arg_splitted[index-2] == 'не':\n",
        "        return False\n",
        "      else:\n",
        "        return True\n",
        "\n",
        "hh_data['Готовность к переезду'] = hh_data['Город, переезд, командировки'].apply(get_moving)\n",
        "\n",
        "# Создаем функцию, которая определяет готовность пользователя к командировкам\n",
        "def get_business_trip(arg):\n",
        "  arg_splitted = arg.split(' ')\n",
        "\n",
        "  for index, item in enumerate(arg_splitted):\n",
        "    if item == 'командировкам':\n",
        "      if arg_splitted[index-3] == 'не' or arg_splitted[index-4] == 'не':\n",
        "        return False\n",
        "      else:\n",
        "        return True\n",
        "  return False\n",
        "\n",
        "hh_data['Готовность к командировкам'] = hh_data['Город, переезд, командировки'].apply(get_business_trip)\n",
        "\n",
        "# После применения функций и создания новых признаков, удаляем признак ['Город, переезд, командировки']\n",
        "drop_col = ['Город, переезд, командировки']\n",
        "hh_data = hh_data.drop(drop_col, axis=1)"
      ]
    },
    {
      "cell_type": "markdown",
      "id": "0136ffee-0ead-4a6b-b608-61d1c753a438",
      "metadata": {
        "id": "0136ffee-0ead-4a6b-b608-61d1c753a438"
      },
      "source": [
        "5. Рассмотрим поближе признаки **\"Занятость\"** и **\"График\"**. Сейчас признаки представляют собой набор категорий желаемой занятости (полная занятость, частичная занятость, проектная работа, волонтерство, стажировка) и желаемого графика работы (полный день, сменный график, гибкий график, удаленная работа, вахтовый метод).\n",
        "На сайте hh.ru соискатель может указывать различные комбинации данных категорий, например:\n",
        "* полная занятость, частичная занятость\n",
        "* частичная занятость, проектная работа, волонтерство\n",
        "* полный день, удаленная работа\n",
        "* вахтовый метод, гибкий график, удаленная работа, полная занятость\n",
        "\n",
        "Такой вариант признаков имеет множество различных комбинаций, а значит множество уникальных значений, что мешает анализу. Нужно это исправить!\n",
        "\n",
        "Давайте создадим признаки-мигалки для каждой категории: если категория присутствует в списке желаемых соискателем, то в столбце на месте строки рассматриваемого соискателя ставится True, иначе - False.\n",
        "\n",
        "Такой метод преобразования категориальных признаков называется One Hot Encoding и его схема представлена на рисунке ниже:\n",
        "<img src=https://raw.githubusercontent.com/AndreyRysistov/DatasetsForPandas/main/ohe.jpg>\n",
        "Выполните данное преобразование для признаков \"Занятость\" и \"График\", ответьте на контрольные вопросы, после чего удалите их из таблицы"
      ]
    },
    {
      "cell_type": "code",
      "execution_count": 84,
      "id": "5b3a8e79-f7ab-4008-b767-12aea3a205ea",
      "metadata": {
        "id": "5b3a8e79-f7ab-4008-b767-12aea3a205ea"
      },
      "outputs": [],
      "source": [
        "# С помощью lambda-функциий преобразуем признаки ['Занятость', 'График'] по схеме One Hot Encoding\n",
        "employments = ['полная занятость', 'частичная занятость', 'проектная работа', 'волонтерство', 'стажировка']\n",
        "\n",
        "for employment in employments:\n",
        "    hh_data[employment] = hh_data['Занятость'].agg(lambda x: True if employment in x else False)\n",
        "\n",
        "shedules = ['полный день', 'сменный график', 'гибкий график', 'удаленная работа', 'вахтовый метод']\n",
        "for shedule in shedules:\n",
        "    hh_data[shedule] = hh_data['График'].agg(lambda x: True if shedule in x else False)\n",
        "\n",
        "# После всех преобразований удаляем признак ['Занятость', 'График']\n",
        "hh_data.drop(columns=['Занятость', 'График'], inplace=True)"
      ]
    },
    {
      "cell_type": "markdown",
      "id": "344f123c-b63b-43dd-a8a4-809c1f1bb443",
      "metadata": {
        "id": "344f123c-b63b-43dd-a8a4-809c1f1bb443"
      },
      "source": [
        "6. (2 балла) Наконец, мы добрались до самого главного и самого важного - признака заработной платы **\"ЗП\"**. \n",
        "В чем наша беда? В том, что помимо желаемой заработной платы соискатель указывает валюту, в которой он бы хотел ее получать, например:\n",
        "* 30000 руб.\n",
        "* 50000 грн.\n",
        "* 550 USD\n",
        "\n",
        "Нам бы хотелось видеть заработную плату в единой валюте, например, в рублях. Возникает вопрос, а где взять курс валют по отношению к рублю?\n",
        "\n",
        "На самом деле язык Python имеет в арсенале огромное количество возможностей получения данной информации, от обращения к API Центробанка, до использования специальных библиотек, например pycbrf. Однако, это не тема нашего проекта.\n",
        "\n",
        "Поэтому мы пойдем в лоб: обратимся к специальным интернет-ресурсам для получения данных о курсе в виде текстовых файлов. Например, MDF.RU, данный ресурс позволяет удобно экспортировать данные о курсах различных валют и акций за указанные периоды в виде csv файлов. Мы уже сделали выгрузку курсов валют, которые встречаются в наших данных за период с 29.12.2017 по 05.12.2019. Скачать ее вы можете **на платформе**\n",
        "\n",
        "Создайте новый DataFrame из полученного файла. В полученной таблице нас будут интересовать столбцы:\n",
        "* \"currency\" - наименование валюты в ISO кодировке,\n",
        "* \"date\" - дата, \n",
        "* \"proportion\" - пропорция, \n",
        "* \"close\" - цена закрытия (последний зафиксированный курс валюты на указанный день).\n",
        "\n",
        "\n",
        "Перед вами таблица соответствия наименований иностранных валют в наших данных и их общепринятых сокращений, которые представлены в нашем файле с курсами валют. Пропорция - это число, за сколько единиц валюты указан курс в таблице с курсами. Например, для казахстанского тенге курс на 20.08.2019 составляет 17.197 руб. за 100 тенге, тогда итоговый курс равен - 17.197 / 100 = 0.17197 руб за 1 тенге.\n",
        "Воспользуйтесь этой информацией в ваших преобразованиях.\n",
        "\n",
        "<img src=https://raw.githubusercontent.com/AndreyRysistov/DatasetsForPandas/main/table.jpg>\n",
        "\n",
        "\n",
        "Осталось только понять, откуда брать дату, по которой определяется курс? А вот же она - в признаке **\"Обновление резюме\"**, в нем содержится дата и время, когда соискатель выложил текущий вариант своего резюме. Нас интересует только дата, по ней бы и будем сопоставлять курсы валют.\n",
        "\n",
        "Теперь у нас есть вся необходимая информация для того, чтобы создать признак \"ЗП (руб)\" - заработная плата в рублях.\n",
        "\n",
        "После ответа на контрольные вопросы удалите исходный столбец заработной платы \"ЗП\" и все промежуточные столбцы, если вы их создавали."
      ]
    },
    {
      "cell_type": "markdown",
      "id": "6d794257-61f5-4124-956b-67b92b9391a7",
      "metadata": {
        "tags": [],
        "id": "6d794257-61f5-4124-956b-67b92b9391a7"
      },
      "source": [
        "Итак, давайте обсудим возможный алгоритм преобразования: \n",
        "1. Перевести признак \"Обновление резюме\" из таблицы с резюме в формат datetime и достать из него дату. В тот же формат привести признак \"date\" из таблицы с валютами.\n",
        "2. Выделить из столбца \"ЗП\" сумму желаемой заработной платы и наименование валюты, в которой она исчисляется. Наименование валюты перевести в стандарт ISO согласно с таблицей выше.\n",
        "3. Присоединить к таблице с резюме таблицу с курсами по столбцам с датой и названием валюты (подумайте, какой тип объединения надо выбрать, чтобы в таблице с резюме сохранились данные о заработной плате, изначально представленной в рублях). Значение close для рубля заполнить единицей 1 (курс рубля самого к себе)\n",
        "4. Умножить сумму желаемой заработной платы на присоединенный курс валюты (close) и разделить на пропорцию (обратите внимание на пропуски после объединения в этих столбцах), результат занести в новый столбец \"ЗП (руб)\".\n"
      ]
    },
    {
      "cell_type": "code",
      "execution_count": 85,
      "id": "e91f87ed-e25c-4f96-9f92-b642e8c0b4fa",
      "metadata": {
        "id": "e91f87ed-e25c-4f96-9f92-b642e8c0b4fa",
        "colab": {
          "base_uri": "https://localhost:8080/"
        },
        "outputId": "904f5e96-c002-4d94-c41c-234f37562b5b"
      },
      "outputs": [
        {
          "output_type": "stream",
          "name": "stdout",
          "text": [
            "Медианная заработная плата соискателей составляет: 59 тысяч рублей\n"
          ]
        }
      ],
      "source": [
        "# Считываем таблицу курса валют за период с 2017 по 2019 год\n",
        "exchange_rates_df = pd.read_csv('/content/drive/MyDrive/My projects in SkillFactory/Project_1_HeadHunter_base/ExchangeRates.csv', sep=',')\n",
        "exchange_rates_df['date']=pd.to_datetime(exchange_rates_df['date'], infer_datetime_format=True)\n",
        "\n",
        "# Преобразуем дату в признаке ['Обновление резюме']\n",
        "hh_data['Обновление резюме'] = hh_data['Обновление резюме'].agg(lambda x: x.split()[0])\n",
        "hh_data['Обновление резюме'] = pd.to_datetime(hh_data['Обновление резюме'], infer_datetime_format=True)\n",
        "\n",
        "# Определяем желаемую заработную плату и валюту пользователя\n",
        "hh_data['Сумма'] = hh_data['ЗП'].agg(lambda x: x.split()[0]).astype(float)\n",
        "hh_data['Валюта'] = hh_data['ЗП'].agg(lambda x: x.split()[1])\n",
        "\n",
        "# Приведем все названия желаемых валют к стандарту ISO\n",
        "def rename_currency(arg):\n",
        "    if arg == 'бел.руб.':\n",
        "        return 'BYN'\n",
        "    elif arg == 'грн.':\n",
        "        return 'UAH'\n",
        "    elif arg == 'сум':\n",
        "        return 'UZS'\n",
        "    else:\n",
        "        return arg\n",
        "\n",
        "hh_data['Валюта'] = hh_data['Валюта'].agg(rename_currency)    \n",
        "\n",
        "# С помощью метода .merge() объединим DataFrame\n",
        "hh_data = hh_data.merge(\n",
        "    exchange_rates_df,\n",
        "    how = 'left',\n",
        "    left_on=['Обновление резюме', 'Валюта'],\n",
        "    right_on=['date', 'currency']    \n",
        ")\n",
        "\n",
        "# Заполним столбец close и proportion значением 1.0 для рубля\n",
        "mask1 = hh_data['Валюта'] == 'руб.'\n",
        "hh_data.loc[mask1, 'close'] = 1.0\n",
        "hh_data.loc[mask1, 'proportion'] = 1.0\n",
        "\n",
        "# Создаем новый признак ['ЗП (руб)'], который приводит все желаемые заработные платы к единой валюте (рубль)\n",
        "hh_data['ЗП (руб)'] = hh_data['Сумма'] * hh_data['close'] / hh_data['proportion']\n",
        "\n",
        "# Удаляем все лишние столбцы\n",
        "hh_data.drop(columns=['ЗП', 'Сумма', 'Валюта', 'currency', 'per', 'date', 'time', 'close', 'vol',\n",
        "       'proportion'], inplace=True)\n",
        "print(f\"Медианная заработная плата соискателей составляет: {round(hh_data['ЗП (руб)'].median()/1000)} тысяч рублей\")"
      ]
    },
    {
      "cell_type": "markdown",
      "id": "7ea20ab6-04a7-40a0-adec-443a0e5a42c3",
      "metadata": {
        "id": "7ea20ab6-04a7-40a0-adec-443a0e5a42c3"
      },
      "source": [
        "# Исследование зависимостей в данных"
      ]
    },
    {
      "cell_type": "markdown",
      "id": "968aed80-74ef-4ffb-b5bf-c65b84e9caea",
      "metadata": {
        "id": "968aed80-74ef-4ffb-b5bf-c65b84e9caea"
      },
      "source": [
        "1. Постройте распределение признака **\"Возраст\"**. Опишите распределение, отвечая на следующие вопросы: чему равна мода распределения, каковы предельные значения признака, в каком примерном интервале находится возраст большинства соискателей? Есть ли аномалии для признака возраста, какие значения вы бы причислили к их числу?\n",
        "*Совет: постройте гистограмму и коробчатую диаграмму рядом.*"
      ]
    },
    {
      "cell_type": "code",
      "execution_count": 123,
      "id": "f2d62796-d400-4ec1-a675-88112739a50e",
      "metadata": {
        "id": "f2d62796-d400-4ec1-a675-88112739a50e"
      },
      "outputs": [],
      "source": [
        "# Строим гистограмму и коробчатую диаграмму\n",
        "fig = px.histogram(\n",
        "    data_frame=hh_data,\n",
        "    x=['Возраст'],\n",
        "    histnorm='percent',\n",
        "    width=1200,\n",
        "    marginal='box'\n",
        ")\n",
        "\n",
        "# Подписываем оси и заголовок графика\n",
        "fig.update_layout(showlegend=False,\n",
        "                  title=\"Распределение возраста соискателей\",\n",
        "                  xaxis_title=\"Возраст\",\n",
        "                  yaxis_title=\"Доля пользователей, %\"\n",
        "                  )\n",
        "\n",
        "# Подписываем наполнители\n",
        "fig.update_traces(\n",
        "    hoverinfo=\"all\", \n",
        "    hovertemplate=\"Возраст: %{x}<br>Доля пользователей: %{y}\")\n",
        "\n",
        "fig.write_image('/content/drive/MyDrive/Colab Notebooks/img_diagrams/newplot.png')\n",
        "#fig.show()"
      ]
    },
    {
      "cell_type": "markdown",
      "id": "88967466-5070-4bea-9e71-b3efefdc6e4a",
      "metadata": {
        "id": "88967466-5070-4bea-9e71-b3efefdc6e4a"
      },
      "source": [
        "Выводы:\n",
        "\n",
        "Мода распределения соответствует возрасту в 30 лет, где предельное значение признака составляет 6,3 %. Большинство соискателей находится в возрасте от 24 до 34 лет. Вероятно, это период, когда соискатели заканчивают учебные заведения и начинают искать работу или ищут вакансии с более высокой оплатой труда, так как еще достаточно молоды и перспективны.\n",
        "\n",
        "Аномалии отлично видны на коробчатой диаграмме. В глаза сразу бросается левый ус и самый правый выброс. Минимальный возраст соискателя составляет 14 лет. Скорее всего это ошибка, так как в этом возрасте человек еще не имеет среднего образования, не говоря об остальных ступенях. Максимальный возраст соискателя составил 100 лет. Крайне сложно представить, что в столь глубоком возрасте человек продолжает искать работу, не говоря уже о семидесятилетних пользователях. Таким образом, можно предположить, что это тоже ошибка."
      ]
    },
    {
      "cell_type": "markdown",
      "id": "68377cfc-b378-43dc-ab7d-1195abf2c515",
      "metadata": {
        "id": "68377cfc-b378-43dc-ab7d-1195abf2c515"
      },
      "source": [
        "2. Постройте распределение признака **\"Опыт работы (месяц)\"**. Опишите данное распределение, отвечая на следующие вопросы: чему равна мода распределения, каковы предельные значения признака, в каком примерном интервале находится опыт работы большинства соискателей? Есть ли аномалии для признака опыта работы, какие значения вы бы причислили к их числу?\n",
        "*Совет: постройте гистограмму и коробчатую диаграмму рядом.*"
      ]
    },
    {
      "cell_type": "code",
      "execution_count": 104,
      "id": "dd7df27a-e3e8-412e-a21a-5d389b71e891",
      "metadata": {
        "id": "dd7df27a-e3e8-412e-a21a-5d389b71e891"
      },
      "outputs": [],
      "source": [
        "# Строим гистограмму и коробчатую диаграмму\n",
        "fig = px.histogram(\n",
        "    data_frame=hh_data,\n",
        "    x=['Опыт работы (месяц)'],\n",
        "    histnorm='percent',\n",
        "    width=1200,\n",
        "    marginal='box'\n",
        ")\n",
        "\n",
        "# Подписываем оси и заголовок графика\n",
        "fig.update_layout(showlegend=False,\n",
        "                  title=\"Распределение опыта работы соискателей\",\n",
        "                  xaxis_title=\"Опыт работы, кол-во месяцев\",\n",
        "                  yaxis_title=\"Доля пользователей, %\"\n",
        "                  )\n",
        "\n",
        "# Подписываем наполнители\n",
        "fig.update_traces(\n",
        "    hoverinfo=\"all\", \n",
        "    hovertemplate=\"Опыт работы: %{x}<br>Доля пользователей: %{y}\")\n",
        "\n",
        "pio.write_image(fig, '/content/drive/MyDrive/Colab Notebooks/img_diagrams/newplot (1).png', format='png')\n",
        "#fig.show()"
      ]
    },
    {
      "cell_type": "markdown",
      "id": "7305c34b-089d-4986-be9f-5fa1c0ee281c",
      "metadata": {
        "id": "7305c34b-089d-4986-be9f-5fa1c0ee281c"
      },
      "source": [
        "Выводы:\n",
        "\n",
        "Мода распрделения опыта работы равна 80 - 84 месяца. Предельные значения признака имеют большой размах от 1 до 1188 месяцев. Большинство соискателей имеет опыт работы от 1 до 299 месяцев.\n",
        "\n",
        "К аномальным признакам стоит отнести значение в 1188 месяцев работы. Самую большую продолжительность жизни имела женщина из Японии Жанне-Луизе Кальман 122 года и 164 дня. Она умерла в 1997 году, а HeadHunter был основан в 2000 году. Кроме того, эта женщина не работала всю свою жизнь, как и многие другие долгожители. Поэтому данное значение можно считать аномальным."
      ]
    },
    {
      "cell_type": "markdown",
      "id": "f2fe0acb-ab1a-4e15-9326-2560e22d73c1",
      "metadata": {
        "id": "f2fe0acb-ab1a-4e15-9326-2560e22d73c1"
      },
      "source": [
        "3. Постройте распределение признака **\"ЗП (руб)\"**. Опишите данное распределение, отвечая на следующие вопросы: каковы предельные значения признака, в каком примерном интервале находится заработная плата большинства соискателей? Есть ли аномалии для признака возраста? Обратите внимание на гигантские размеры желаемой заработной платы.\n",
        "*Совет: постройте гистограмму и коробчатую диаграмму рядом.*\n"
      ]
    },
    {
      "cell_type": "code",
      "execution_count": 105,
      "id": "6271f8ad-bd2e-4196-ae4a-5b39c4c1010e",
      "metadata": {
        "id": "6271f8ad-bd2e-4196-ae4a-5b39c4c1010e"
      },
      "outputs": [],
      "source": [
        "# Строим гистограмму и коробчатую диаграмму\n",
        "fig = px.histogram(\n",
        "    data_frame=hh_data,\n",
        "    x=['ЗП (руб)'],\n",
        "    histnorm='percent',\n",
        "    width=7000,\n",
        "    marginal='box'\n",
        ")\n",
        "\n",
        "# Подписываем оси и заголовок графика\n",
        "fig.update_layout(showlegend=False,\n",
        "                  title=\"Распределение заработной платы соискателей\",\n",
        "                  xaxis_title=\"Заработная плата, руб.\",\n",
        "                  yaxis_title=\"Доля пользователей, %\"\n",
        "                  )\n",
        "\n",
        "# Подписываем наполнители\n",
        "fig.update_traces(\n",
        "    hoverinfo=\"all\", \n",
        "    hovertemplate=\"Заработная плата: %{x}<br>Доля пользователей: %{y}\")\n",
        "\n",
        "pio.write_image(fig, '/content/drive/MyDrive/Colab Notebooks/img_diagrams/newplot (2).png', format='png')\n",
        "#fig.show()"
      ]
    },
    {
      "cell_type": "markdown",
      "id": "6c39ca13-225e-48f7-a85c-ab07a6cc852a",
      "metadata": {
        "id": "6c39ca13-225e-48f7-a85c-ab07a6cc852a"
      },
      "source": [
        "Выводы:\n",
        "\n",
        "Предельное значение признака варьируется от 1 рубля и жл 24,30488 миллионов рублей. Большинство желает заработную плату от 37 да 95 тысяч рублей.\n",
        "\n",
        "Есть несколько аномальных значений. Во-первыйх, это минимальный предел, равный 1 рублю. Сложно представить работу, равную 1 рублю в месяц. Во-вторых, это максимальные значения. Многие из нас хотят высокую оплату своего труда, но некоторые, возможно, обладают невероятно редкими способностями и умениями, за которые они хотят получать более 1 миллиона рублей в месяц. Проанализировав эти аномалии стоит отметить, что все кандидаты имеют опыт работы в IT и их желаемые должности находятся в той же сфере, все они мужчины примерно тридцатилетнего возраста, почти все из Москвы и ранее занимали высокие должности. Возможно, это адекватное требование. И кроме того, соискатели могли указать желаемую заработную плату не в месяц, а в год"
      ]
    },
    {
      "cell_type": "markdown",
      "id": "eab2206d-d95b-468b-8e5f-34381abf0ce7",
      "metadata": {
        "id": "eab2206d-d95b-468b-8e5f-34381abf0ce7"
      },
      "source": [
        "4. Постройте диаграмму, которая показывает зависимость **медианной** желаемой заработной платы (**\"ЗП (руб)\"**) от уровня образования (**\"Образование\"**). Используйте для диаграммы данные о резюме, где желаемая заработная плата меньше 1 млн рублей.\n",
        "*Сделайте выводы по представленной диаграмме: для каких уровней образования наблюдаются наибольшие и наименьшие уровни желаемой заработной платы? Как вы считаете, важен ли признак уровня образования при прогнозировании заработной платы?*"
      ]
    },
    {
      "cell_type": "code",
      "execution_count": 106,
      "id": "80defb23-bfb1-4a18-8be6-bf36aa7165d5",
      "metadata": {
        "id": "80defb23-bfb1-4a18-8be6-bf36aa7165d5"
      },
      "outputs": [],
      "source": [
        "# Исключаем выбросы и группируем данные\n",
        "bar_hh_data = hh_data[hh_data['ЗП (руб)'] < 1e6].groupby('Образование', as_index=False).median()\n",
        "\n",
        "# Строим столбчатую диаграмму\n",
        "fig = px.bar(\n",
        "    data_frame=bar_hh_data,\n",
        "    x='Образование',\n",
        "    y='ЗП (руб)',\n",
        "    color='Образование'\n",
        ")\n",
        "\n",
        "# Подписываем оси и заголовок графика\n",
        "fig.update_layout(showlegend=False,\n",
        "                  title=\"Медианная желаемая заработная плата соискателей относительно их уровня образования\",\n",
        "                  xaxis_title=\"Уровень образования\",\n",
        "                  yaxis_title=\"Заработная плата, руб.\"\n",
        "                  )\n",
        "\n",
        "# Подписываем наполнители\n",
        "fig.update_traces(\n",
        "    hoverinfo=\"all\", \n",
        "    hovertemplate=\"Уровень образования: %{x}<br>Заработная плата: %{y}\")\n",
        "\n",
        "pio.write_image(fig, '/content/drive/MyDrive/Colab Notebooks/img_diagrams/newplot (3).png', format='png')\n",
        "#fig.show()"
      ]
    },
    {
      "cell_type": "markdown",
      "id": "dc463319-3f85-47dd-b66e-aecb0be0c76f",
      "metadata": {
        "id": "dc463319-3f85-47dd-b66e-aecb0be0c76f"
      },
      "source": [
        "Выводы:\n",
        "\n",
        "Наибольший уровень желаемой заработной платы у соискателей с высшим образованием, а наименьший заняли среднее и среднее специальное образование. Люди с высшим образованием потратили больше средств и времени на получение этого уровня образованности, поэтому их ожидания выше, чем у людей с более низким уровнем образования. Несомненно, при прогнозировании заработной платы необходимо учитывать признак уровня образования."
      ]
    },
    {
      "cell_type": "markdown",
      "id": "0112af31-f6b0-4e3b-82ab-71296e752e5e",
      "metadata": {
        "id": "0112af31-f6b0-4e3b-82ab-71296e752e5e"
      },
      "source": [
        "5. Постройте диаграмму, которая показывает распределение желаемой заработной платы (**\"ЗП (руб)\"**) в зависимости от города (**\"Город\"**). Используйте для диаграммы данные о резюме, где желая заработная плата меньше 1 млн рублей.\n",
        "*Сделайте выводы по полученной диаграмме: как соотносятся медианные уровни желаемой заработной платы и их размах в городах? Как вы считаете, важен ли признак города при прогнозировании заработной платы?*"
      ]
    },
    {
      "cell_type": "code",
      "execution_count": 107,
      "id": "973b0cfc-a972-470a-8b4a-68744ef220c4",
      "metadata": {
        "id": "973b0cfc-a972-470a-8b4a-68744ef220c4"
      },
      "outputs": [],
      "source": [
        "# Исключаем выбросы из признака\n",
        "box_hh_data = hh_data[hh_data['ЗП (руб)'] < 1e6]\n",
        "\n",
        "# Строим столбчатую диаграмму\n",
        "fig = px.box(\n",
        "    data_frame=box_hh_data,\n",
        "    x='Город',\n",
        "    y='ЗП (руб)',\n",
        "    color='Город'\n",
        ")\n",
        "\n",
        "# Подписываем оси и заголовок графика\n",
        "fig.update_layout(showlegend=False,\n",
        "                  title=\"Распределение желаемой заработной платы в зависимости от города\",\n",
        "                  xaxis_title=\"Город\",\n",
        "                  yaxis_title=\"Заработная плата, руб.\",\n",
        "                  )\n",
        "\n",
        "# Подписываем наполнители\n",
        "fig.update_traces(\n",
        "    hoverinfo=\"all\", \n",
        "    hovertemplate=\"Город: %{x}<br>Заработная плата: %{y}\")\n",
        "\n",
        "pio.write_image(fig, '/content/drive/MyDrive/Colab Notebooks/img_diagrams/newplot (4).png', format='png')\n",
        "#fig.show()"
      ]
    },
    {
      "cell_type": "markdown",
      "id": "2710ce73-2e81-4e38-b52f-833cd14ba47a",
      "metadata": {
        "tags": [],
        "id": "2710ce73-2e81-4e38-b52f-833cd14ba47a"
      },
      "source": [
        "Выводы:\n",
        "\n",
        "Соотношение медианной желаемой заработной платы и их размаха следующее: города-миллионники и другие 40000 к 30000, Санкт-Петербург 60000 к 40000, Москва 85000 к 90000.\n",
        "\n",
        "Москва и Санкт-Петербург имеют более высокие показатели желаемой заработной платы, так как являются крупнейшими городами и сосредоточием офисных центров компаний. Вместе с тем города из категории 'другие' могут иметь не меньший уровень заработной платы, так как некоторые находятся на ресурсном месторождении, где преобладает вахтовый метод работы с высокой оплатой труда.\n",
        "\n",
        "Признак города необходимо учитывать при прогнозировании заработной платы. Однако, использовать его нужно осторожно, ведь если Москва, Санкт-Петербург и города-миллионники являются центром концентрации рабочей силы и их уровень заработной платы образуется за счет развитости города, то города из категории 'другие' могут быть чуть ли не посёлками по населению с парой магазинов и отелей, а заработной платой выше, чем средней по Москве, и наоборот.\n"
      ]
    },
    {
      "cell_type": "markdown",
      "id": "3bfcfdaf-755d-4d2b-8ed8-326201dc07ab",
      "metadata": {
        "id": "3bfcfdaf-755d-4d2b-8ed8-326201dc07ab"
      },
      "source": [
        "6. Постройте **многоуровневую столбчатую диаграмму**, которая показывает зависимость медианной заработной платы (**\"ЗП (руб)\"**) от признаков **\"Готовность к переезду\"** и **\"Готовность к командировкам\"**. Проанализируйте график, сравнив уровень заработной платы в категориях."
      ]
    },
    {
      "cell_type": "code",
      "execution_count": 108,
      "id": "ad3f270f-2991-47eb-929b-e8f88a55b0d1",
      "metadata": {
        "id": "ad3f270f-2991-47eb-929b-e8f88a55b0d1"
      },
      "outputs": [],
      "source": [
        "# Группируем данные для диаграммы\n",
        "bar_hh_data = hh_data.groupby(['Готовность к командировкам', 'Готовность к переезду'], as_index=False)['ЗП (руб)'].median()\n",
        "\n",
        "# Строим столбчатую диаграмму\n",
        "fig = px.bar(\n",
        "    data_frame=bar_hh_data,\n",
        "    x='ЗП (руб)',\n",
        "    y='Готовность к переезду',\n",
        "    barmode='group',\n",
        "    color='Готовность к командировкам',\n",
        "    orientation='h'\n",
        ")\n",
        "\n",
        "# Подписываем оси и заголовок графика\n",
        "fig.update_layout(showlegend=True,\n",
        "                  title=\"Медианная желаемая заработная плата соискателей относительно готовности к переездам и командировкам\",\n",
        "                  xaxis_title=\"Заработная плата, руб.\",\n",
        "                  yaxis_title=\"Готовность к переезду\"\n",
        "                  )\n",
        "\n",
        "# Подписываем наполнители\n",
        "fig.update_traces(\n",
        "    hoverinfo=\"all\", \n",
        "    hovertemplate=\"Заработная плата: %{x}<br>Готовность к командировкам/переездам: %{y}\")\n",
        "\n",
        "pio.write_image(fig, '/content/drive/MyDrive/Colab Notebooks/img_diagrams/newplot (5).png', format='png')\n",
        "#fig.show()"
      ]
    },
    {
      "cell_type": "markdown",
      "source": [
        "Выводы:\n",
        "\n",
        "График неочевидный и требует немного внимания для понимания представленной информации. Ось Х отображает желаемую заработную плату в рублях, а ось Y отображает готовность соискателей к переезду, где **false** не готов, а **true** готов. Дополнительно цветом отображена готовность к командировкам, где синий цвет означает готов к командировкам, а красный не готов\n",
        "\n",
        "Проанализировав график мы можеи увидеть, люди, готовые к переездам и/или к командировкам желают более высокую заработную плату. В особенности это заметно по тем, кто готов хотя бы к командировкам.\n",
        "\n",
        "Люди, не готовые к переезду и к командировкам желают на 10к меньше, чем готовые к переезду, на 20к меньше, чем готовые только к командировкам и на 25к меньше, чем готовые и к командировкам и к переездам."
      ],
      "metadata": {
        "id": "IXBmh-SSUqWu"
      },
      "id": "IXBmh-SSUqWu"
    },
    {
      "cell_type": "markdown",
      "id": "7b02bb86-0546-40fb-94a4-242f050a5c57",
      "metadata": {
        "id": "7b02bb86-0546-40fb-94a4-242f050a5c57"
      },
      "source": [
        "7. Постройте сводную таблицу, иллюстрирующую зависимость **медианной** желаемой заработной платы от возраста (**\"Возраст\"**) и образования (**\"Образование\"**). На полученной сводной таблице постройте **тепловую карту**. Проанализируйте тепловую карту, сравнив показатели внутри групп."
      ]
    },
    {
      "cell_type": "code",
      "execution_count": 92,
      "id": "5a0e32a4-e68a-4365-8a39-2fe24c542c36",
      "metadata": {
        "id": "5a0e32a4-e68a-4365-8a39-2fe24c542c36"
      },
      "outputs": [],
      "source": [
        "# Создаем сводную таблицу\n",
        "pivot_table_hh = hh_data.pivot_table(\n",
        "    index='Образование',\n",
        "    columns='Возраст',\n",
        "    values='ЗП (руб)',\n",
        "    aggfunc='median',\n",
        "    fill_value=0\n",
        ")\n",
        "\n",
        "# Строим тепловую карту\n",
        "fig = px.imshow(\n",
        "    pivot_table_hh,\n",
        "    aspect='auto',\n",
        "    color_continuous_scale='inferno'\n",
        ")\n",
        "\n",
        "# Подписываем оси и заголовок диаграммы\n",
        "fig.update_layout(showlegend=True,\n",
        "                  title=\"Зависимость медианной желаемой заработной платы от возраста\",\n",
        "                  xaxis_title=\"Возраст\",\n",
        "                  yaxis_title=\"Уровень образования\"\n",
        ")\n",
        "\n",
        "# Подписываем наполнители\n",
        "fig.update_traces(\n",
        "    hoverinfo=\"all\", \n",
        "    hovertemplate=\"Возраст: %{x}<br>Уровень образования: %{y}\")\n",
        "\n",
        "pio.write_image(fig, '/content/drive/MyDrive/Colab Notebooks/img_diagrams/newplot (8).png')\n",
        "#fig.show()"
      ]
    },
    {
      "cell_type": "markdown",
      "id": "7aade1c2-16a0-418c-8427-ad93927c7705",
      "metadata": {
        "id": "7aade1c2-16a0-418c-8427-ad93927c7705"
      },
      "source": [
        "Выводы:\n",
        "\n",
        "На диаграмме мы можем видеть, что чем выше уровень образования, тем выше желаемая заработная плата с возрастом. В тоже время мы видим, что среднее специальное и среднее образование практически не влияют на размер желаемой заработной платы с возрастом.\n",
        "\n",
        "Заметим, что в ориентировочный период окончания учебных заведений ожидания заработной платы, примерно, одинаковые у всех. А со временем желаемая ЗП растет тольео у людей с высшим или неокоченным высшим. Что отличает этих людей?"
      ]
    },
    {
      "cell_type": "markdown",
      "id": "d0247088-9003-455b-a591-a44650f487c3",
      "metadata": {
        "id": "d0247088-9003-455b-a591-a44650f487c3"
      },
      "source": [
        "8. Постройте **диаграмму рассеяния**, показывающую зависимость опыта работы (**\"Опыт работы (месяц)\"**) от возраста (**\"Возраст\"**). Опыт работы переведите из месяцев в года, чтобы признаки были в едином масштабе. Постройте на графике дополнительно прямую, проходящую через точки (0, 0) и (100, 100). Данная прямая соответствует значениям, когда опыт работы равен возрасту человека. Точки, лежащие на этой прямой и выше нее - аномалии в наших данных (опыт работы больше либо равен возрасту соискателя)"
      ]
    },
    {
      "cell_type": "code",
      "execution_count": 93,
      "id": "a4143e50-b900-4ec8-9ae9-fc3ec3347287",
      "metadata": {
        "id": "a4143e50-b900-4ec8-9ae9-fc3ec3347287",
        "colab": {
          "base_uri": "https://localhost:8080/",
          "height": 823
        },
        "outputId": "cbc99610-b5e8-478d-e482-9b0780794262"
      },
      "outputs": [
        {
          "output_type": "display_data",
          "data": {
            "text/plain": [
              "<Figure size 2000x1000 with 1 Axes>"
            ],
            "image/png": "[encoded data removed]"
          },
          "metadata": {}
        }
      ],
      "source": [
        "# Строим пространство для графика\n",
        "fig = plt.figure(figsize=(20, 10))\n",
        "\n",
        "# Создаем новый признак\n",
        "hh_data_for_scatter = hh_data.copy()\n",
        "hh_data_for_scatter['Опыт работы (год)'] = hh_data_for_scatter['Опыт работы (месяц)'] / 12\n",
        "\n",
        "# Чертим дополнительную прямую, чтобы визуально исключить аномалии\n",
        "sns.lineplot(x=[0, 100], y=[0, 100])\n",
        "\n",
        "# Строим диаграмму рассеяния\n",
        "axis = sns.scatterplot(\n",
        "    data=hh_data_for_scatter,\n",
        "    x='Возраст',\n",
        "    y='Опыт работы (год)'\n",
        ")\n",
        "\n",
        "# Подписываем оси и заголовок диаграммы\n",
        "axis.set_title('Зависимость между опытом работы и возрастом')\n",
        "axis.set_xlabel('Возраст, лет')\n",
        "axis.set_ylabel('Опыт работы, лет');"
      ]
    },
    {
      "cell_type": "markdown",
      "id": "6f9218ff-52c7-4742-b328-4db5d4da7262",
      "metadata": {
        "id": "6f9218ff-52c7-4742-b328-4db5d4da7262"
      },
      "source": [
        "На представленной диаграмме рассеяния мы ясно видим, что с возрастом у людей увеличивается их опыт работы. Кроме того, с возрастом появляются люди с разным опытом работы. То есть в 40 лет люди имеют самый разный стаж от 0 и до 20 лет. Такая зависимость наблюдается вплоть до 60 лет. Можно сказать, что люди ищут работу в самом разном возрасте и начинают работать также в самом разном возрасте и с самым разным опытом. После 60 количество ищущих работу людей резко падает. Вероятно это связано с пенсионным возрастом и выходом на пенсию."
      ]
    },
    {
      "cell_type": "markdown",
      "id": "0cc3b0d5-b551-424d-9956-8da18fce17a1",
      "metadata": {
        "id": "0cc3b0d5-b551-424d-9956-8da18fce17a1"
      },
      "source": [
        "**Дополнительные баллы**\n",
        "\n",
        "Для получения 2 дополнительных баллов по разведывательному анализу постройте еще два любых содержательных графика или диаграммы, которые помогут проиллюстрировать влияние признаков/взаимосвязь между признаками/распределения признаков. Приведите выводы по ним. Желательно, чтобы в анализе участвовали признаки, которые мы создавали ранее в разделе \"Преобразование данных\".\n"
      ]
    },
    {
      "cell_type": "markdown",
      "source": [
        "**Дополнительный график № 1 - Взаимосвязь пола и заработной платы**"
      ],
      "metadata": {
        "id": "ow6bhA0PUMyL"
      },
      "id": "ow6bhA0PUMyL"
    },
    {
      "cell_type": "code",
      "source": [
        "# Исключаем выбросы и группируем данные\n",
        "copy_hh_data = hh_data.copy()\n",
        "copy_hh_data['Пол'] = copy_hh_data['Пол'].apply(lambda x: 'Мужчины' if x == 'М' else 'Женщины')\n",
        "bar_hh_data = copy_hh_data[copy_hh_data['ЗП (руб)'] < 1e6].groupby('Пол', as_index=False).median()\n",
        "\n",
        "# Строим столбчатую диаграмму\n",
        "fig = px.bar(\n",
        "    data_frame=bar_hh_data,\n",
        "    x='Пол',\n",
        "    y='ЗП (руб)',\n",
        "    color='Пол'\n",
        ")\n",
        "\n",
        "# Подписываем оси и заголовок графика\n",
        "fig.update_layout(showlegend=False,\n",
        "                  title=\"Медианная желаемая заработная плата соискателей относительно их пола\",\n",
        "                  xaxis_title=\"Пол\",\n",
        "                  yaxis_title=\"Заработная плата, руб.\"\n",
        "                  )\n",
        "\n",
        "# Подписываем наполнители\n",
        "fig.update_traces(\n",
        "    hoverinfo=\"all\", \n",
        "    hovertemplate=\"Пол: %{x}<br>Заработная плата: %{y}\")\n",
        "\n",
        "pio.write_image(fig, '/content/drive/MyDrive/Colab Notebooks/img_diagrams/newplot (6).png', format='png')\n",
        "#fig.show()"
      ],
      "metadata": {
        "id": "InPTDPsVQ0si"
      },
      "id": "InPTDPsVQ0si",
      "execution_count": 109,
      "outputs": []
    },
    {
      "cell_type": "markdown",
      "source": [
        "Выводы:\n",
        ">\n",
        "Из данного графика мы видим, что женщины желают меньше заработную плату, чем мужчины. При сегодняшних почти равных условиях и возможностях женщины сами желают меньшую заработную плату. Вероятно, это связано с предубеждениями касательно этого момента"
      ],
      "metadata": {
        "id": "Q_4Q8bqwS7TI"
      },
      "id": "Q_4Q8bqwS7TI"
    },
    {
      "cell_type": "markdown",
      "source": [
        "**Дополнительный график № 2 - Взаимосвязь между желаемой заработной платой, уровнем образования и городом** "
      ],
      "metadata": {
        "id": "b2LjDfe_Ujzz"
      },
      "id": "b2LjDfe_Ujzz"
    },
    {
      "cell_type": "code",
      "source": [
        "# Группируем данные для диаграммы\n",
        "bar_hh_data = copy_hh_data.groupby(['Город', 'Образование'], as_index=False)['ЗП (руб)'].median()\n",
        "\n",
        "# Строим столбчатую диаграмму\n",
        "fig = px.bar(\n",
        "    data_frame=bar_hh_data,\n",
        "    x='ЗП (руб)',\n",
        "    y='Образование',\n",
        "    barmode='group',\n",
        "    color='Город',\n",
        "    orientation='h'\n",
        ")\n",
        "\n",
        "# Подписываем оси и заголовок графика\n",
        "fig.update_layout(showlegend=True,\n",
        "                  title=\"Медианная желаемая заработная плата соискателей относительно их уровня образования и города\",\n",
        "                  xaxis_title=\"Заработная плата, руб.\",\n",
        "                  yaxis_title=\"Уровень образования\"\n",
        "                  )\n",
        "\n",
        "# Подписываем наполнители\n",
        "fig.update_traces(\n",
        "    hoverinfo=\"all\", \n",
        "    hovertemplate=\"Заработная плата: %{x}<br>Уровень образования: %{y}\")\n",
        "\n",
        "pio.write_image(fig, '/content/drive/MyDrive/Colab Notebooks/img_diagrams/newplot (7).png', format='png')\n",
        "#fig.show()"
      ],
      "metadata": {
        "id": "K_PN1iX8Q03_"
      },
      "id": "K_PN1iX8Q03_",
      "execution_count": 110,
      "outputs": []
    },
    {
      "cell_type": "markdown",
      "id": "04966e40-3bc3-4dc8-9ba2-e80580ce3abc",
      "metadata": {
        "id": "04966e40-3bc3-4dc8-9ba2-e80580ce3abc"
      },
      "source": [
        "Выводы:\n",
        ">\n",
        "Как мы видим, любое образование ценится больше в Москве, чем в остальных городах. Среднее и неоконченное высшее в города-миллионниках и других имеет одинаковый уровень зарплаты. Среднее специальное и среднее одинаково ценится в Москве и Санкт-Петербурге. Можно сделать вывод, что с высшим образованием лучше ехать в Москву."
      ]
    },
    {
      "cell_type": "markdown",
      "id": "b1ef156a-efcb-49ce-bb23-90763e7f35b2",
      "metadata": {
        "tags": [],
        "id": "b1ef156a-efcb-49ce-bb23-90763e7f35b2"
      },
      "source": [
        "# Очистка данных"
      ]
    },
    {
      "cell_type": "markdown",
      "id": "b9cd50a0-992d-4988-8463-2b2b1c4629b4",
      "metadata": {
        "id": "b9cd50a0-992d-4988-8463-2b2b1c4629b4"
      },
      "source": [
        "1. Начнем с дубликатов в наших данных. Найдите **полные дубликаты** в таблице с резюме и удалите их. "
      ]
    },
    {
      "cell_type": "code",
      "execution_count": 96,
      "id": "54ab0e50-c0f1-47cc-a54b-bc5c8bc363f9",
      "metadata": {
        "id": "54ab0e50-c0f1-47cc-a54b-bc5c8bc363f9",
        "colab": {
          "base_uri": "https://localhost:8080/"
        },
        "outputId": "ee652e6b-d5fb-4917-db23-8fd3756d87f5"
      },
      "outputs": [
        {
          "output_type": "stream",
          "name": "stdout",
          "text": [
            "Число найденных дупликатов:  161\n"
          ]
        }
      ],
      "source": [
        "hh_data['Опыт работы (месяц)'].isnull().sum()\n",
        "\n",
        "duplicates = hh_data[hh_data.duplicated(subset=hh_data.columns)]\n",
        "hh_data = hh_data.drop_duplicates()\n",
        "print(f'Число найденных дупликатов: ', duplicates.shape[0])"
      ]
    },
    {
      "cell_type": "markdown",
      "id": "4dea20cb-a36b-474a-a0b9-e08e8e3857a5",
      "metadata": {
        "id": "4dea20cb-a36b-474a-a0b9-e08e8e3857a5"
      },
      "source": [
        "2. Займемся пропусками. Выведите информацию **о числе пропусков** в столбцах. "
      ]
    },
    {
      "cell_type": "code",
      "execution_count": 97,
      "id": "9c61b3c0-bb66-46c9-ae1e-81d3f5752b4a",
      "metadata": {
        "id": "9c61b3c0-bb66-46c9-ae1e-81d3f5752b4a",
        "colab": {
          "base_uri": "https://localhost:8080/",
          "height": 90
        },
        "outputId": "b28776e2-3c86-4161-db37-5fc733ca54ec"
      },
      "outputs": [
        {
          "output_type": "display_data",
          "data": {
            "text/plain": [
              "Последнее/нынешнее место работы      1\n",
              "Последняя/нынешняя должность         2\n",
              "Опыт работы (месяц)                168\n",
              "dtype: int64"
            ]
          },
          "metadata": {}
        }
      ],
      "source": [
        "data_null = hh_data.isnull().sum()\n",
        "display(data_null[data_null > 0])"
      ]
    },
    {
      "cell_type": "markdown",
      "id": "eedceb80-c5ca-480e-b27a-278dfb8b4438",
      "metadata": {
        "id": "eedceb80-c5ca-480e-b27a-278dfb8b4438"
      },
      "source": [
        "3. Итак, у нас есть пропуски в 3ех столбцах: **\"Опыт работы (месяц)\"**, **\"Последнее/нынешнее место работы\"**, **\"Последняя/нынешняя должность\"**. Поступим следующим образом: удалите строки, где есть пропуск в столбцах с местом работы и должностью. Пропуски в столбце с опытом работы заполните **медианным** значением."
      ]
    },
    {
      "cell_type": "code",
      "execution_count": 98,
      "id": "69621713-0cc5-4f1b-a1d7-bb144fa6148c",
      "metadata": {
        "id": "69621713-0cc5-4f1b-a1d7-bb144fa6148c",
        "colab": {
          "base_uri": "https://localhost:8080/"
        },
        "outputId": "e9fe3fa8-791b-457a-b174-3ec8cee3a4ab"
      },
      "outputs": [
        {
          "output_type": "stream",
          "name": "stdout",
          "text": [
            "Средний опыт работы в месяцах: 114\n"
          ]
        },
        {
          "output_type": "stream",
          "name": "stderr",
          "text": [
            "<ipython-input-98-a07ea006c806>:6: SettingWithCopyWarning:\n",
            "\n",
            "\n",
            "A value is trying to be set on a copy of a slice from a DataFrame.\n",
            "Try using .loc[row_indexer,col_indexer] = value instead\n",
            "\n",
            "See the caveats in the documentation: https://pandas.pydata.org/pandas-docs/stable/user_guide/indexing.html#returning-a-view-versus-a-copy\n",
            "\n"
          ]
        }
      ],
      "source": [
        "hh_data = hh_data.dropna(subset=['Последнее/нынешнее место работы', 'Последняя/нынешняя должность'])\n",
        "values = {\n",
        "    'Опыт работы (месяц)': hh_data['Опыт работы (месяц)'].median()\n",
        "}\n",
        "\n",
        "hh_data['Опыт работы (месяц)'] = hh_data['Опыт работы (месяц)'].fillna(values)\n",
        "print(f'Средний опыт работы в месяцах:', round(hh_data['Опыт работы (месяц)'].mean()))"
      ]
    },
    {
      "cell_type": "markdown",
      "id": "1be1e9c6-37cf-4a5f-bfeb-04cab799dc80",
      "metadata": {
        "id": "1be1e9c6-37cf-4a5f-bfeb-04cab799dc80"
      },
      "source": [
        "4. Мы добрались до ликвидации выбросов. Сначала очистим данные вручную. Удалите резюме, в которых указана заработная плата либо выше 1 млн. рублей, либо ниже 1 тыс. рублей."
      ]
    },
    {
      "cell_type": "code",
      "execution_count": 99,
      "id": "0036a355-9ccf-4564-8b01-73d8194297e7",
      "metadata": {
        "id": "0036a355-9ccf-4564-8b01-73d8194297e7",
        "colab": {
          "base_uri": "https://localhost:8080/"
        },
        "outputId": "21718942-e8aa-4edf-dbc3-6112bdd63e70"
      },
      "outputs": [
        {
          "output_type": "stream",
          "name": "stdout",
          "text": [
            "Количество выбросов:  89\n"
          ]
        }
      ],
      "source": [
        "# Выделяем количество выбросов вручную\n",
        "outliers = hh_data[(hh_data['ЗП (руб)'] > 1e6) | (hh_data['ЗП (руб)'] < 1e3)]\n",
        "print(f'Количество выбросов: ', outliers.shape[0])\n",
        "\n",
        "# Удаляем найденные выбросы\n",
        "hh_data = hh_data.drop(outliers.index, axis=0)"
      ]
    },
    {
      "cell_type": "markdown",
      "id": "ec3c8db7-fa21-4a41-a994-1af63742a642",
      "metadata": {
        "id": "ec3c8db7-fa21-4a41-a994-1af63742a642"
      },
      "source": [
        "5. В процессе разведывательного анализа мы обнаружили резюме, в которых **опыт работы в годах превышал возраст соискателя**. Найдите такие резюме и удалите их из данных\n"
      ]
    },
    {
      "cell_type": "code",
      "execution_count": 100,
      "id": "949132bc-d5b6-4611-8218-0b9a504d74f4",
      "metadata": {
        "id": "949132bc-d5b6-4611-8218-0b9a504d74f4",
        "colab": {
          "base_uri": "https://localhost:8080/"
        },
        "outputId": "071a289e-3161-448d-f4be-dfa6d4a71e01"
      },
      "outputs": [
        {
          "output_type": "stream",
          "name": "stdout",
          "text": [
            "Количество выбросов:  7\n"
          ]
        }
      ],
      "source": [
        "# Находим выбросы\n",
        "outliers = hh_data[(hh_data['Опыт работы (месяц)'] / 12) >= hh_data['Возраст']]\n",
        "print(f'Количество выбросов: ', outliers.shape[0])\n",
        "\n",
        "# Удаляем найденные выбросы\n",
        "hh_data = hh_data.drop(outliers.index, axis=0)"
      ]
    },
    {
      "cell_type": "markdown",
      "id": "1041c17a-ca8f-4543-a0ca-32778914fb00",
      "metadata": {
        "id": "1041c17a-ca8f-4543-a0ca-32778914fb00"
      },
      "source": [
        "6. В результате анализа мы обнаружили потенциальные выбросы в признаке **\"Возраст\"**. Это оказались резюме людей чересчур преклонного возраста для поиска работы. Попробуйте построить распределение признака в **логарифмическом масштабе**. Добавьте к графику линии, отображающие **среднее и границы интервала метода трех сигм**. Напомним, сделать это можно с помощью метода axvline. Например, для построение линии среднего будет иметь вид:\n",
        "\n",
        "`histplot.axvline(log_age.mean(), color='k', lw=2)`\n",
        "\n",
        "В какую сторону асимметрично логарифмическое распределение? Напишите об этом в комментарии к графику.\n",
        "Найдите выбросы с помощью метода z-отклонения и удалите их из данных, используйте логарифмический масштаб. Давайте сделаем послабление на **1 сигму** (возьмите 4 сигмы) в **правую сторону**.\n",
        "\n",
        "Выведите таблицу с полученными выбросами и оцените, с каким возрастом соискатели попадают под категорию выбросов?"
      ]
    },
    {
      "cell_type": "code",
      "execution_count": 101,
      "id": "6a743d39-5204-48d3-8271-b9f88e68d40e",
      "metadata": {
        "id": "6a743d39-5204-48d3-8271-b9f88e68d40e",
        "colab": {
          "base_uri": "https://localhost:8080/",
          "height": 564
        },
        "outputId": "40c0ddb2-b4a8-44af-dd8d-465437a0252a"
      },
      "outputs": [
        {
          "output_type": "display_data",
          "data": {
            "text/plain": [
              "<Figure size 1400x600 with 1 Axes>"
            ],
            "image/png": "[encoded data removed]"
          },
          "metadata": {}
        }
      ],
      "source": [
        "fig, ax = plt.subplots(1, 1, figsize=(14, 6))\n",
        "log_age = np.log(hh_data['Возраст'] + 1)\n",
        "histplot = sns.histplot(log_age, bins=30, ax=ax)\n",
        "histplot.axvline(log_age.mean(), color='k', lw=2)\n",
        "histplot.axvline(log_age.mean()+ 4 * log_age.std(), color='k', ls='--', lw=2)\n",
        "histplot.axvline(log_age.mean()- 3 * log_age.std(), color='k', ls='--', lw=2)\n",
        "histplot.set_title(\"Распределение признака ['Возраст'] в логарифмическом масштабе\");\n",
        "histplot.set_xlabel('Возраст')\n",
        "histplot.set_ylabel('');"
      ]
    },
    {
      "cell_type": "code",
      "source": [
        "def outliers_z_score_mod(data, feature, log_scale=False, left=3, right=3):\n",
        "    if log_scale:\n",
        "        x = np.log(data[feature]+1)\n",
        "    else:\n",
        "        x = data[feature]\n",
        "    mu = x.mean()\n",
        "    sigma = x.std()\n",
        "    lower_bound = mu - left * sigma\n",
        "    upper_bound = mu + right * sigma\n",
        "    outliers = data[(x < lower_bound) | (x > upper_bound)]\n",
        "    cleaned = data[(x > lower_bound) & (x < upper_bound)]\n",
        "    return outliers, cleaned\n",
        "\n",
        "outliers, cleaned = outliers_z_score_mod(hh_data, 'Возраст', log_scale=True, left=3, right=4.0)\n",
        "print(f'Число выбросов по методу z-отклонения: {outliers.shape[0]}')\n",
        "print(f'Результирующее число записей: {cleaned.shape[0]}')\n",
        "\n",
        "# Выведем таблицу с отклонениями\n",
        "display(outliers)"
      ],
      "metadata": {
        "id": "Jo0ia-yGsYnZ",
        "colab": {
          "base_uri": "https://localhost:8080/",
          "height": 377
        },
        "outputId": "efa81563-897e-489e-e86d-01e3ff97f261"
      },
      "id": "Jo0ia-yGsYnZ",
      "execution_count": 102,
      "outputs": [
        {
          "output_type": "stream",
          "name": "stdout",
          "text": [
            "Число выбросов по методу z-отклонения: 3\n",
            "Результирующее число записей: 44482\n"
          ]
        },
        {
          "output_type": "display_data",
          "data": {
            "text/plain": [
              "            Ищет работу на должность: Последнее/нынешнее место работы  \\\n",
              "31137  Менеджер по работе с клиентами           ООО \"ФёрстКэшКомпани\"   \n",
              "32950                 Тестировщик игр                        OOO ЖМЫХ   \n",
              "33654            Frontend-разработчик                       Freelance   \n",
              "\n",
              "         Последняя/нынешняя должность Обновление резюме        Авто  \\\n",
              "31137  Менеджер по работе с клиентами        2019-04-06  Не указано   \n",
              "32950                  Тестировщик ПО        2019-04-09  Не указано   \n",
              "33654            Frontend-разработчик        2019-04-19  Не указано   \n",
              "\n",
              "               Образование  Возраст Пол  Опыт работы (месяц)            Город  \\\n",
              "31137              среднее       15   М                  2.0  Санкт-Петербург   \n",
              "32950  среднее специальное       15   М                  3.0           другие   \n",
              "33654  среднее специальное      100   М                 30.0  Санкт-Петербург   \n",
              "\n",
              "       ...  частичная занятость  проектная работа  волонтерство  стажировка  \\\n",
              "31137  ...                 True             False         False       False   \n",
              "32950  ...                False             False         False       False   \n",
              "33654  ...                 True              True         False        True   \n",
              "\n",
              "       полный день  сменный график  гибкий график  удаленная работа  \\\n",
              "31137        False            True           True              True   \n",
              "32950         True           False          False             False   \n",
              "33654         True           False           True              True   \n",
              "\n",
              "       вахтовый метод  ЗП (руб)  \n",
              "31137           False   10000.0  \n",
              "32950           False    2000.0  \n",
              "33654           False   60000.0  \n",
              "\n",
              "[3 rows x 23 columns]"
            ],
            "text/html": [
              "\n",
              "  <div id=\"df-394db6b3-24f8-4da0-abea-0c12e2e88735\">\n",
              "    <div class=\"colab-df-container\">\n",
              "      <div>\n",
              "<style scoped>\n",
              "    .dataframe tbody tr th:only-of-type {\n",
              "        vertical-align: middle;\n",
              "    }\n",
              "\n",
              "    .dataframe tbody tr th {\n",
              "        vertical-align: top;\n",
              "    }\n",
              "\n",
              "    .dataframe thead th {\n",
              "        text-align: right;\n",
              "    }\n",
              "</style>\n",
              "<table border=\"1\" class=\"dataframe\">\n",
              "  <thead>\n",
              "    <tr style=\"text-align: right;\">\n",
              "      <th></th>\n",
              "      <th>Ищет работу на должность:</th>\n",
              "      <th>Последнее/нынешнее место работы</th>\n",
              "      <th>Последняя/нынешняя должность</th>\n",
              "      <th>Обновление резюме</th>\n",
              "      <th>Авто</th>\n",
              "      <th>Образование</th>\n",
              "      <th>Возраст</th>\n",
              "      <th>Пол</th>\n",
              "      <th>Опыт работы (месяц)</th>\n",
              "      <th>Город</th>\n",
              "      <th>...</th>\n",
              "      <th>частичная занятость</th>\n",
              "      <th>проектная работа</th>\n",
              "      <th>волонтерство</th>\n",
              "      <th>стажировка</th>\n",
              "      <th>полный день</th>\n",
              "      <th>сменный график</th>\n",
              "      <th>гибкий график</th>\n",
              "      <th>удаленная работа</th>\n",
              "      <th>вахтовый метод</th>\n",
              "      <th>ЗП (руб)</th>\n",
              "    </tr>\n",
              "  </thead>\n",
              "  <tbody>\n",
              "    <tr>\n",
              "      <th>31137</th>\n",
              "      <td>Менеджер по работе с клиентами</td>\n",
              "      <td>ООО \"ФёрстКэшКомпани\"</td>\n",
              "      <td>Менеджер по работе с клиентами</td>\n",
              "      <td>2019-04-06</td>\n",
              "      <td>Не указано</td>\n",
              "      <td>среднее</td>\n",
              "      <td>15</td>\n",
              "      <td>М</td>\n",
              "      <td>2.0</td>\n",
              "      <td>Санкт-Петербург</td>\n",
              "      <td>...</td>\n",
              "      <td>True</td>\n",
              "      <td>False</td>\n",
              "      <td>False</td>\n",
              "      <td>False</td>\n",
              "      <td>False</td>\n",
              "      <td>True</td>\n",
              "      <td>True</td>\n",
              "      <td>True</td>\n",
              "      <td>False</td>\n",
              "      <td>10000.0</td>\n",
              "    </tr>\n",
              "    <tr>\n",
              "      <th>32950</th>\n",
              "      <td>Тестировщик игр</td>\n",
              "      <td>OOO ЖМЫХ</td>\n",
              "      <td>Тестировщик ПО</td>\n",
              "      <td>2019-04-09</td>\n",
              "      <td>Не указано</td>\n",
              "      <td>среднее специальное</td>\n",
              "      <td>15</td>\n",
              "      <td>М</td>\n",
              "      <td>3.0</td>\n",
              "      <td>другие</td>\n",
              "      <td>...</td>\n",
              "      <td>False</td>\n",
              "      <td>False</td>\n",
              "      <td>False</td>\n",
              "      <td>False</td>\n",
              "      <td>True</td>\n",
              "      <td>False</td>\n",
              "      <td>False</td>\n",
              "      <td>False</td>\n",
              "      <td>False</td>\n",
              "      <td>2000.0</td>\n",
              "    </tr>\n",
              "    <tr>\n",
              "      <th>33654</th>\n",
              "      <td>Frontend-разработчик</td>\n",
              "      <td>Freelance</td>\n",
              "      <td>Frontend-разработчик</td>\n",
              "      <td>2019-04-19</td>\n",
              "      <td>Не указано</td>\n",
              "      <td>среднее специальное</td>\n",
              "      <td>100</td>\n",
              "      <td>М</td>\n",
              "      <td>30.0</td>\n",
              "      <td>Санкт-Петербург</td>\n",
              "      <td>...</td>\n",
              "      <td>True</td>\n",
              "      <td>True</td>\n",
              "      <td>False</td>\n",
              "      <td>True</td>\n",
              "      <td>True</td>\n",
              "      <td>False</td>\n",
              "      <td>True</td>\n",
              "      <td>True</td>\n",
              "      <td>False</td>\n",
              "      <td>60000.0</td>\n",
              "    </tr>\n",
              "  </tbody>\n",
              "</table>\n",
              "<p>3 rows × 23 columns</p>\n",
              "</div>\n",
              "      <button class=\"colab-df-convert\" onclick=\"convertToInteractive('df-394db6b3-24f8-4da0-abea-0c12e2e88735')\"\n",
              "              title=\"Convert this dataframe to an interactive table.\"\n",
              "              style=\"display:none;\">\n",
              "        \n",
              "  <svg xmlns=\"http://www.w3.org/2000/svg\" height=\"24px\"viewBox=\"0 0 24 24\"\n",
              "       width=\"24px\">\n",
              "    <path d=\"M0 0h24v24H0V0z\" fill=\"none\"/>\n",
              "    <path d=\"M18.56 5.44l.94 2.06.94-2.06 2.06-.94-2.06-.94-.94-2.06-.94 2.06-2.06.94zm-11 1L8.5 8.5l.94-2.06 2.06-.94-2.06-.94L8.5 2.5l-.94 2.06-2.06.94zm10 10l.94 2.06.94-2.06 2.06-.94-2.06-.94-.94-2.06-.94 2.06-2.06.94z\"/><path d=\"M17.41 7.96l-1.37-1.37c-.4-.4-.92-.59-1.43-.59-.52 0-1.04.2-1.43.59L10.3 9.45l-7.72 7.72c-.78.78-.78 2.05 0 2.83L4 21.41c.39.39.9.59 1.41.59.51 0 1.02-.2 1.41-.59l7.78-7.78 2.81-2.81c.8-.78.8-2.07 0-2.86zM5.41 20L4 18.59l7.72-7.72 1.47 1.35L5.41 20z\"/>\n",
              "  </svg>\n",
              "      </button>\n",
              "      \n",
              "  <style>\n",
              "    .colab-df-container {\n",
              "      display:flex;\n",
              "      flex-wrap:wrap;\n",
              "      gap: 12px;\n",
              "    }\n",
              "\n",
              "    .colab-df-convert {\n",
              "      background-color: #E8F0FE;\n",
              "      border: none;\n",
              "      border-radius: 50%;\n",
              "      cursor: pointer;\n",
              "      display: none;\n",
              "      fill: #1967D2;\n",
              "      height: 32px;\n",
              "      padding: 0 0 0 0;\n",
              "      width: 32px;\n",
              "    }\n",
              "\n",
              "    .colab-df-convert:hover {\n",
              "      background-color: #E2EBFA;\n",
              "      box-shadow: 0px 1px 2px rgba(60, 64, 67, 0.3), 0px 1px 3px 1px rgba(60, 64, 67, 0.15);\n",
              "      fill: #174EA6;\n",
              "    }\n",
              "\n",
              "    [theme=dark] .colab-df-convert {\n",
              "      background-color: #3B4455;\n",
              "      fill: #D2E3FC;\n",
              "    }\n",
              "\n",
              "    [theme=dark] .colab-df-convert:hover {\n",
              "      background-color: #434B5C;\n",
              "      box-shadow: 0px 1px 3px 1px rgba(0, 0, 0, 0.15);\n",
              "      filter: drop-shadow(0px 1px 2px rgba(0, 0, 0, 0.3));\n",
              "      fill: #FFFFFF;\n",
              "    }\n",
              "  </style>\n",
              "\n",
              "      <script>\n",
              "        const buttonEl =\n",
              "          document.querySelector('#df-394db6b3-24f8-4da0-abea-0c12e2e88735 button.colab-df-convert');\n",
              "        buttonEl.style.display =\n",
              "          google.colab.kernel.accessAllowed ? 'block' : 'none';\n",
              "\n",
              "        async function convertToInteractive(key) {\n",
              "          const element = document.querySelector('#df-394db6b3-24f8-4da0-abea-0c12e2e88735');\n",
              "          const dataTable =\n",
              "            await google.colab.kernel.invokeFunction('convertToInteractive',\n",
              "                                                     [key], {});\n",
              "          if (!dataTable) return;\n",
              "\n",
              "          const docLinkHtml = 'Like what you see? Visit the ' +\n",
              "            '<a target=\"_blank\" href=https://colab.research.google.com/notebooks/data_table.ipynb>data table notebook</a>'\n",
              "            + ' to learn more about interactive tables.';\n",
              "          element.innerHTML = '';\n",
              "          dataTable['output_type'] = 'display_data';\n",
              "          await google.colab.output.renderOutput(dataTable, element);\n",
              "          const docLink = document.createElement('div');\n",
              "          docLink.innerHTML = docLinkHtml;\n",
              "          element.appendChild(docLink);\n",
              "        }\n",
              "      </script>\n",
              "    </div>\n",
              "  </div>\n",
              "  "
            ]
          },
          "metadata": {}
        }
      ]
    },
    {
      "cell_type": "markdown",
      "id": "6a7892b4-4113-4746-adce-18aa2844f18e",
      "metadata": {
        "id": "6a7892b4-4113-4746-adce-18aa2844f18e"
      },
      "source": [
        "Согласно графику мы видим, что распрделение скошено вправо, так как наблюдается хвост в правой части графика. \n",
        ">\n",
        "Также мы вывели таблицу с выбросами, которые были определены по методу z-отклонений. В эту категорию попали соискатели с возрастом 15 и 100 лет."
      ]
    }
  ],
  "metadata": {
    "kernelspec": {
      "display_name": "Python 3 (ipykernel)",
      "language": "python",
      "name": "python3"
    },
    "language_info": {
      "codemirror_mode": {
        "name": "ipython",
        "version": 3
      },
      "file_extension": ".py",
      "mimetype": "text/x-python",
      "name": "python",
      "nbconvert_exporter": "python",
      "pygments_lexer": "ipython3",
      "version": "3.9.7"
    },
    "colab": {
      "provenance": [],
      "include_colab_link": true
    }
  },
  "nbformat": 4,
  "nbformat_minor": 5
}